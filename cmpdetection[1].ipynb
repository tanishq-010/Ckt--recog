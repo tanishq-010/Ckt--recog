{
 "cells": [
  {
   "cell_type": "code",
   "execution_count": 2,
   "metadata": {},
   "outputs": [],
   "source": [
    "import zipfile\n",
    "import requests\n",
    "import cv2\n",
    "import matplotlib.pyplot as plt\n",
    "import glob \n",
    "import random\n",
    "import os\n",
    "from ultralytics import YOLO"
   ]
  },
  {
   "cell_type": "code",
   "execution_count": 2,
   "metadata": {},
   "outputs": [
    {
     "name": "stdout",
     "output_type": "stream",
     "text": [
      "Extracted all\n"
     ]
    }
   ],
   "source": [
    "def unzip(zip_file=None):\n",
    "    try:\n",
    "        with zipfile.ZipFile(zip_file) as z:\n",
    "            z.extractall(\"./\")\n",
    "            print(\"Extracted all\")\n",
    "    except:\n",
    "        print(\"Invalid file\")\n",
    "\n",
    "unzip(\"C:\\ckt\\circuits.v1i.yolov8v2.zip\")"
   ]
  },
  {
   "cell_type": "code",
   "execution_count": 3,
   "metadata": {},
   "outputs": [],
   "source": [
    "# Function to convert bounding boxes in YOLO format to xmin, ymin, xmax, ymax.\n",
    "def yolo2bbox(bboxes):\n",
    "    xmin, ymin = bboxes[0]-bboxes[2]/2, bboxes[1]-bboxes[3]/2\n",
    "    xmax, ymax = bboxes[0]+bboxes[2]/2, bboxes[1]+bboxes[3]/2\n",
    "    return xmin, ymin, xmax, ymax"
   ]
  },
  {
   "cell_type": "code",
   "execution_count": 4,
   "metadata": {},
   "outputs": [],
   "source": [
    "def plot_box(image, bboxes, labels):\n",
    "    # Need the image height and width to denormalize\n",
    "    # the bounding box coordinates\n",
    "    h, w, _ = image.shape\n",
    "    for box_num, box in enumerate(bboxes):\n",
    "        x1, y1, x2, y2 = yolo2bbox(box)\n",
    "        # Denormalize the coordinates.\n",
    "        xmin = int(x1*w)\n",
    "        ymin = int(y1*h)\n",
    "        xmax = int(x2*w)\n",
    "        ymax = int(y2*h)\n",
    "\n",
    "        thickness = max(2, int(w/275))\n",
    "                \n",
    "        cv2.rectangle(\n",
    "            image, \n",
    "            (xmin, ymin), (xmax, ymax),\n",
    "            color=(0, 0, 255),\n",
    "            thickness=thickness\n",
    "        )\n",
    "    return image"
   ]
  },
  {
   "cell_type": "code",
   "execution_count": 5,
   "metadata": {},
   "outputs": [],
   "source": [
    "#Function to plot images with the bounding boxes.\n",
    "def plot(image_paths, label_paths, num_samples):\n",
    "    all_images = []\n",
    "    all_images.extend(glob.glob(image_paths+'/*.jpg'))\n",
    "    all_images.extend(glob.glob(image_paths+'/*.JPG'))\n",
    "    all_images.extend(glob.glob(image_paths+'/*.bmp'))\n",
    "    \n",
    "    all_images.sort()\n",
    "\n",
    "    num_images = len(all_images)\n",
    "    \n",
    "    plt.figure(figsize=(15, 12))\n",
    "    for i in range(num_samples):\n",
    "        j = random.randint(0,num_images-1)\n",
    "        image_name = all_images[j]\n",
    "        image_name = '.'.join(image_name.split(os.path.sep)[-1].split('.')[:-1])\n",
    "        image = cv2.imread(all_images[j])\n",
    "        with open(os.path.join(label_paths, image_name+'.txt'), 'r') as f:\n",
    "            bboxes = []\n",
    "            labels = []\n",
    "            label_lines = f.readlines()\n",
    "            for label_line in label_lines:\n",
    "                label = label_line[0]\n",
    "                bbox_string = label_line[2:]\n",
    "                x_c, y_c, w, h = bbox_string.split(' ')\n",
    "                x_c = float(x_c)\n",
    "                y_c = float(y_c)\n",
    "                w = float(w)\n",
    "                h = float(h)\n",
    "                bboxes.append([x_c, y_c, w, h])\n",
    "                labels.append(label)\n",
    "        result_image = plot_box(image, bboxes, labels)\n",
    "        plt.subplot(2, 2, i+1)\n",
    "        plt.imshow(result_image[:, :, ::-1])\n",
    "        plt.axis('off')\n",
    "    plt.subplots_adjust(wspace=1)\n",
    "    plt.tight_layout()\n",
    "    plt.show()"
   ]
  },
  {
   "cell_type": "code",
   "execution_count": 6,
   "metadata": {},
   "outputs": [
    {
     "name": "stdout",
     "output_type": "stream",
     "text": [
      "Label data for C:\\ckt\\circuits.v1i.yolov8v2\\train\\images\\Screenshot-2024-02-10-231221_png.rf.892eb0b39da3410396bfe210a7afa588.jpg: 14 0.571875 0.190625 0.225 0.1015625\n",
      "12 0.5015625 0.45546875 0.284375 0.20625\n",
      "4 0.51640625 0.7734375 0.1234375 0.2484375\n",
      "Label data for C:\\ckt\\circuits.v1i.yolov8v2\\train\\images\\Screenshot-2024-02-10-231221_png.rf.caa5388020a7dfce445416a81a6a627e.jpg: 14 0.190625 0.428125 0.1015625 0.22421875\n",
      "12 0.45546875 0.4984375 0.20546875 0.284375\n",
      "4 0.7734375 0.48359375 0.2484375 0.1234375\n",
      "Label data for C:\\ckt\\circuits.v1i.yolov8v2\\train\\images\\Screenshot-2024-02-10-231229_png.rf.6fbc200024db7f2ac21376784386e50d.jpg: 7 0.1234375 0.51640625 0.2078125 0.37109375\n",
      "4 0.41640625 0.21796875 0.08984375 0.2484375\n",
      "14 0.63359375 0.2 0.165625 0.2015625\n",
      "Label data for C:\\ckt\\circuits.v1i.yolov8v2\\train\\images\\Screenshot-2024-02-10-231229_png.rf.dbb1a77803a430e9d6934e8f4a564bef.jpg: 7 0.51640625 0.8765625 0.371875 0.2078125\n",
      "4 0.21796875 0.58359375 0.2484375 0.090625\n",
      "14 0.2 0.36640625 0.2015625 0.165625\n",
      "Label data for C:\\ckt\\circuits.v1i.yolov8v2\\train\\images\\Screenshot-2024-02-10-231237_png.rf.421a3efe2876548a1855dd76bc9c21dc.jpg: 11 0.42890625 0.8609375 0.365625 0.1875\n",
      "4 0.21171875 0.5171875 0.2609375 0.1421875\n",
      "9 0.44453125 0.203125 0.253125 0.2625\n",
      "Label data for C:\\ckt\\circuits.v1i.yolov8v2\\train\\images\\Screenshot-2024-02-10-231237_png.rf.4f0fcc8797601c86590aa399125392a0.jpg: 11 0.1390625 0.42890625 0.1875 0.36484375\n",
      "4 0.4828125 0.21171875 0.1421875 0.2609375\n",
      "9 0.796875 0.44453125 0.26328125 0.25234375\n",
      "Label data for C:\\ckt\\circuits.v1i.yolov8v2\\train\\images\\Screenshot-2024-02-10-231509_png.rf.2ce629f24d780fa01f0ccd161e7d12f9.jpg: 14 0.09765625 0.41796875 0.13046875 0.23828125\n",
      "3 0.46171875 0.25546875 0.2234375 0.2875\n",
      "9 0.9125 0.5359375 0.175 0.23828125\n",
      "Label data for C:\\ckt\\circuits.v1i.yolov8v2\\train\\images\\Screenshot-2024-02-10-231509_png.rf.c21fb9a0b5a7f11a2b49e32031b5235c.jpg: 14 0.58203125 0.90234375 0.2375 0.13125\n",
      "3 0.74453125 0.53828125 0.2875 0.2234375\n",
      "9 0.4640625 0.0875 0.2375 0.175\n",
      "Label data for C:\\ckt\\circuits.v1i.yolov8v2\\train\\images\\Screenshot-2024-02-10-231800_png.rf.368a3d4bde6ba7e59e24341531f94a81.jpg: 9 0.54921875 0.82421875 0.25625 0.2703125\n",
      "9 0.50625 0.1734375 0.25625 0.30625\n",
      "6 0.80859375 0.546875 0.2734375 0.1515625\n",
      "Label data for C:\\ckt\\circuits.v1i.yolov8v2\\train\\images\\Screenshot-2024-02-10-231800_png.rf.93324fcdc2068428700db4010083b8e9.jpg: 9 0.17578125 0.45078125 0.2703125 0.25625\n",
      "9 0.8265625 0.49375 0.30546875 0.25625\n",
      "6 0.453125 0.19140625 0.15078125 0.2734375\n",
      "Label data for C:\\ckt\\circuits.v1i.yolov8v2\\train\\images\\Screenshot-2024-02-10-231808_png.rf.396ba95225c904a1c434a7f19ebd8cb2.jpg: 4 0.7421875 0.32109375 0.0828125 0.2875\n",
      "7 0.48828125 0.32578125 0.28046875 0.371875\n",
      "14 0.0765625 0.54609375 0.08671875 0.25546875\n",
      "Label data for C:\\ckt\\circuits.v1i.yolov8v2\\train\\images\\Screenshot-2024-02-10-231808_png.rf.5634b6571ce0811a2f3f1ff831d7026c.jpg: 4 0.32109375 0.7421875 0.2875 0.0828125\n",
      "7 0.32578125 0.48828125 0.371875 0.28125\n",
      "14 0.54609375 0.0765625 0.25625 0.0875\n",
      "Label data for C:\\ckt\\circuits.v1i.yolov8v2\\train\\images\\Screenshot-2024-02-10-231815_png.rf.5ccf53902401b4a0a724b1a31d8d77fe.jpg: 4 0.16328125 0.50703125 0.26328125 0.17421875\n",
      "11 0.5046875 0.17109375 0.33984375 0.25390625\n",
      "7 0.80078125 0.53046875 0.31484375 0.45234375\n",
      "Label data for C:\\ckt\\circuits.v1i.yolov8v2\\train\\images\\Screenshot-2024-02-10-231815_png.rf.a45fd6f504b270df32caad9ffc31a2f0.jpg: 4 0.49296875 0.83671875 0.175 0.2625\n",
      "11 0.82890625 0.4953125 0.253125 0.340625\n",
      "7 0.46953125 0.19921875 0.453125 0.315625\n",
      "Label data for C:\\ckt\\circuits.v1i.yolov8v2\\train\\images\\Screenshot-2024-02-10-231953_png.rf.2b7e443ff7130cbf43bf21e8ae639206.jpg: 14 0.4609375 0.16875 0.26953125 0.24609375\n",
      "14 0.434375 0.7609375 0.2203125 0.20859375\n",
      "4 0.409375 0.48984375 0.11640625 0.32109375\n",
      "Label data for C:\\ckt\\circuits.v1i.yolov8v2\\train\\images\\Screenshot-2024-02-10-231953_png.rf.cd719aa2b0069823fee1d84cf363fd26.jpg: 14 0.16875 0.5390625 0.246875 0.2703125\n",
      "14 0.7609375 0.565625 0.209375 0.2203125\n",
      "4 0.48984375 0.590625 0.321875 0.115625\n",
      "Label data for C:\\ckt\\circuits.v1i.yolov8v2\\train\\images\\Screenshot-2024-02-10-232003_png.rf.11a27b134384f015f530b9317f17b1c4.jpg: 15 0.14296875 0.39453125 0.265625 0.328125\n",
      "4 0.54375 0.21875 0.1171875 0.225\n",
      "12 0.77578125 0.515625 0.253125 0.32265625\n",
      "Label data for C:\\ckt\\circuits.v1i.yolov8v2\\train\\images\\Screenshot-2024-02-10-232003_png.rf.279ca073add2cf599002a19a2fb42dc3.jpg: 15 0.39453125 0.14296875 0.328125 0.265625\n",
      "4 0.21875 0.54375 0.225 0.1171875\n",
      "12 0.515625 0.77578125 0.321875 0.253125\n",
      "Label data for C:\\ckt\\circuits.v1i.yolov8v2\\train\\images\\Screenshot-2024-02-10-232009_png.rf.82b818b2341785de29876993071aa2b1.jpg: 14 0.15546875 0.48125 0.12109375 0.28515625\n",
      "9 0.8125 0.5296875 0.3296875 0.26484375\n",
      "6 0.50078125 0.21484375 0.31796875 0.3296875\n",
      "Label data for C:\\ckt\\circuits.v1i.yolov8v2\\train\\images\\Screenshot-2024-02-10-232009_png.rf.9598deb3179c23f7df5bb43b8943537f.jpg: 14 0.48125 0.15546875 0.284375 0.121875\n",
      "9 0.5296875 0.8125 0.265625 0.3296875\n",
      "6 0.21484375 0.50078125 0.3296875 0.31875\n",
      "Label data for C:\\ckt\\circuits.v1i.yolov8v2\\train\\images\\Screenshot-2024-02-10-232023_png.rf.1ca8ee0c85e4651857d7a34c882932cf.jpg: 11 0.17890625 0.4453125 0.178125 0.353125\n",
      "11 0.82734375 0.5109375 0.171875 0.3625\n",
      "4 0.46484375 0.4890625 0.278125 0.165625\n",
      "Label data for C:\\ckt\\circuits.v1i.yolov8v2\\train\\images\\Screenshot-2024-02-10-232023_png.rf.23e4300e200d8d81616c6c2f7aeb7d7e.jpg: 11 0.17890625 0.4453125 0.17734375 0.353125\n",
      "11 0.82734375 0.5109375 0.171875 0.3625\n",
      "4 0.46484375 0.4890625 0.278125 0.16640625\n",
      "Label data for C:\\ckt\\circuits.v1i.yolov8v2\\train\\images\\Screenshot-2024-02-10-232035_png.rf.741e2cb66ebb39fd045d8f8fe21eab92.jpg: 14 0.4359375 0.15625 0.23125 0.1515625\n",
      "9 0.75546875 0.58046875 0.284375 0.25\n",
      "15 0.25390625 0.47734375 0.2671875 0.259375\n",
      "Label data for C:\\ckt\\circuits.v1i.yolov8v2\\train\\images\\Screenshot-2024-02-10-232035_png.rf.c111bd72e077e2e359fb19896078f51c.jpg: 14 0.15625 0.4359375 0.1515625 0.23203125\n",
      "9 0.58046875 0.75546875 0.25 0.284375\n",
      "15 0.47734375 0.25390625 0.25859375 0.2671875\n",
      "Label data for C:\\ckt\\circuits.v1i.yolov8v2\\train\\images\\Screenshot-2024-02-10-232041_png.rf.d391c8bf3545f2b8f403be305f08962e.jpg: 4 0.4984375 0.77578125 0.1953125 0.290625\n",
      "12 0.78828125 0.47265625 0.325 0.403125\n",
      "Label data for C:\\ckt\\circuits.v1i.yolov8v2\\train\\images\\Screenshot-2024-02-10-232041_png.rf.f99b7d0a2c9b80686b57526c45a9ce8a.jpg: 4 0.5015625 0.22421875 0.1953125 0.29140625\n",
      "12 0.21171875 0.52734375 0.32578125 0.40234375\n",
      "Label data for C:\\ckt\\circuits.v1i.yolov8v2\\train\\images\\Screenshot-2024-02-10-232047_png.rf.b6a6a400043c935a4d0e33b2d046508f.jpg: 4 0.434375 0.5453125 0.1078125 0.259375\n",
      "14 0.41640625 0.79453125 0.21484375 0.16796875\n",
      "Label data for C:\\ckt\\circuits.v1i.yolov8v2\\train\\images\\Screenshot-2024-02-10-232047_png.rf.ed8d0ed05969bb24eb2da67afdd9f261.jpg: 4 0.565625 0.4546875 0.1078125 0.259375\n",
      "14 0.58359375 0.20546875 0.215625 0.16875\n",
      "Label data for C:\\ckt\\circuits.v1i.yolov8v2\\train\\images\\Screenshot-2024-02-10-232101_png.rf.892e937c461decba3b69dac025814b28.jpg: 3 0.14609375 0.43359375 0.2734375 0.33125\n",
      "4 0.565625 0.446875 0.225 0.1515625\n",
      "9 0.8078125 0.41328125 0.21875 0.184375\n",
      "Label data for C:\\ckt\\circuits.v1i.yolov8v2\\train\\images\\Screenshot-2024-02-10-232101_png.rf.d1cf7a56334618031ad813fb2c43b3d2.jpg: 3 0.14609375 0.43359375 0.2734375 0.33046875\n",
      "4 0.565625 0.446875 0.225 0.1515625\n",
      "9 0.8078125 0.41328125 0.21875 0.184375\n",
      "Label data for C:\\ckt\\circuits.v1i.yolov8v2\\train\\images\\Screenshot-2024-02-10-232109_png.rf.894db5173b4e4059b6f046f81930ccbf.jpg: 14 0.428125 0.2671875 0.19375 0.2125\n",
      "9 0.51640625 0.53046875 0.259375 0.25\n",
      "11 0.49375 0.79921875 0.3046875 0.1875\n",
      "Label data for C:\\ckt\\circuits.v1i.yolov8v2\\train\\images\\Screenshot-2024-02-10-232109_png.rf.ee1299cba37ed1684d21155061d7f842.jpg: 14 0.428125 0.2671875 0.19453125 0.21171875\n",
      "9 0.51640625 0.53046875 0.26015625 0.25\n",
      "11 0.49375 0.79921875 0.3046875 0.18828125\n",
      "Label data for C:\\ckt\\circuits.v1i.yolov8v2\\train\\images\\Screenshot-2024-02-10-232117_png.rf.5212e151268367640deee8a797cecc53.jpg: 3 0.1875 0.49296875 0.25234375 0.375\n",
      "3 0.5578125 0.22109375 0.2671875 0.290625\n",
      "9 0.578125 0.7890625 0.184375 0.3109375\n",
      "Label data for C:\\ckt\\circuits.v1i.yolov8v2\\train\\images\\Screenshot-2024-02-10-232117_png.rf.97c2c995eccf9d1da8e96485bdbfe77a.jpg: 3 0.50703125 0.8125 0.375 0.253125\n",
      "3 0.77890625 0.4421875 0.290625 0.2671875\n",
      "9 0.2109375 0.421875 0.3109375 0.184375\n",
      "Label data for C:\\ckt\\circuits.v1i.yolov8v2\\train\\images\\Screenshot-2024-02-10-232125_png.rf.06602a7b6ceaab0817fc33da3f869a57.jpg: 14 0.265625 0.428125 0.165625 0.1796875\n",
      "6 0.79453125 0.640625 0.375 0.25\n",
      "7 0.6125 0.14765625 0.3890625 0.2953125\n",
      "Label data for C:\\ckt\\circuits.v1i.yolov8v2\\train\\images\\Screenshot-2024-02-10-232125_png.rf.5552120a390df139a671cc20fc68ab76.jpg: 14 0.428125 0.265625 0.1796875 0.165625\n",
      "6 0.640625 0.79453125 0.25078125 0.37421875\n",
      "7 0.14765625 0.6125 0.2953125 0.3890625\n",
      "Label data for C:\\ckt\\circuits.v1i.yolov8v2\\train\\images\\Screenshot-2024-02-10-232133_png.rf.9588ad0270ee36e7de6862d048b9ee11.jpg: 4 0.26328125 0.54375 0.24375 0.103125\n",
      "9 0.45078125 0.80859375 0.2140625 0.225\n",
      "15 0.72421875 0.44453125 0.321875 0.2515625\n",
      "Label data for C:\\ckt\\circuits.v1i.yolov8v2\\train\\images\\Screenshot-2024-02-10-232133_png.rf.da9c7a9c56e84c0fdb50551d86b237c8.jpg: 4 0.45625 0.26328125 0.103125 0.24296875\n",
      "9 0.19140625 0.45078125 0.225 0.2140625\n",
      "15 0.55546875 0.72421875 0.2515625 0.32109375\n",
      "Label data for C:\\ckt\\circuits.v1i.yolov8v2\\train\\images\\Screenshot-2024-02-10-232218_png.rf.0915f9d348b59ca8b360bc96cb255fea.jpg: 15 0.13984375 0.4875 0.234375 0.28984375\n",
      "9 0.453125 0.4921875 0.2203125 0.24609375\n",
      "4 0.78515625 0.50078125 0.2484375 0.09921875\n",
      "Label data for C:\\ckt\\circuits.v1i.yolov8v2\\train\\images\\Screenshot-2024-02-10-232218_png.rf.ebfaa24da48c02d3bc69477ba37dff46.jpg: 15 0.5125 0.86015625 0.290625 0.234375\n",
      "9 0.5078125 0.546875 0.246875 0.2203125\n",
      "4 0.49921875 0.21484375 0.1 0.2484375\n",
      "Label data for C:\\ckt\\circuits.v1i.yolov8v2\\train\\images\\Screenshot-2024-02-10-232231_png.rf.4117d98c473ebe2e29f1e0aae9fb5082.jpg: 14 0.8125 0.5046875 0.090625 0.265625\n",
      "12 0.50078125 0.5015625 0.2453125 0.384375\n",
      "15 0.13828125 0.48828125 0.275 0.321875\n",
      "Label data for C:\\ckt\\circuits.v1i.yolov8v2\\train\\images\\Screenshot-2024-02-10-232231_png.rf.9be7263a829f9f264f6150867a6add58.jpg: 14 0.8125 0.5046875 0.09140625 0.26484375\n",
      "12 0.50078125 0.5015625 0.2453125 0.38359375\n",
      "15 0.13828125 0.48828125 0.27578125 0.32109375\n",
      "Label data for C:\\ckt\\circuits.v1i.yolov8v2\\train\\images\\Screenshot-2024-02-10-232238_png.rf.0c575709560975e93365976dcc0d793f.jpg: 4 0.23203125 0.50234375 0.2546875 0.1625\n",
      "6 0.77109375 0.38203125 0.24765625 0.15390625\n",
      "3 0.49375 0.2015625 0.21171875 0.27578125\n",
      "Label data for C:\\ckt\\circuits.v1i.yolov8v2\\train\\images\\Screenshot-2024-02-10-232238_png.rf.a0ce2729d7e9b865ef28667708e31e22.jpg: 4 0.50234375 0.76796875 0.1625 0.2546875\n",
      "6 0.38203125 0.22890625 0.153125 0.246875\n",
      "3 0.2015625 0.50625 0.275 0.2125\n",
      "Label data for C:\\ckt\\circuits.v1i.yolov8v2\\train\\images\\Screenshot-2024-02-10-232312_png.rf.0375651b920109741c8100505b6fcd36.jpg: 4 0.51796875 0.8046875 0.1421875 0.215625\n",
      "9 0.428125 0.26484375 0.215625 0.2703125\n",
      "15 0.7796875 0.51328125 0.2375 0.3265625\n",
      "Label data for C:\\ckt\\circuits.v1i.yolov8v2\\train\\images\\Screenshot-2024-02-10-232312_png.rf.0eb0caabd2a7eafee9d1bdd7515881b3.jpg: 4 0.48203125 0.1953125 0.1421875 0.21484375\n",
      "9 0.571875 0.73515625 0.215625 0.2703125\n",
      "15 0.2203125 0.48671875 0.23828125 0.3265625\n",
      "Label data for C:\\ckt\\circuits.v1i.yolov8v2\\train\\images\\Screenshot-2024-02-10-232321_png.rf.71ea7d2fc3dc50d6455f2df419b5d607.jpg: 14 0.42890625 0.20625 0.190625 0.16640625\n",
      "4 0.675 0.21796875 0.121875 0.30703125\n",
      "7 0.48984375 0.7671875 0.3359375 0.39453125\n",
      "Label data for C:\\ckt\\circuits.v1i.yolov8v2\\train\\images\\Screenshot-2024-02-10-232321_png.rf.fed67bd6bb47fcc463c325a70de05080.jpg: 14 0.79375 0.42890625 0.165625 0.190625\n",
      "4 0.78203125 0.675 0.30625 0.121875\n",
      "7 0.2328125 0.48984375 0.39375 0.3359375\n",
      "Label data for C:\\ckt\\circuits.v1i.yolov8v2\\train\\images\\Screenshot-2024-02-10-232332_png.rf.11dfedd82207bc90280c66aa81faa649.jpg: 6 0.3875 0.22578125 0.1171875 0.33046875\n",
      "3 0.1859375 0.578125 0.27734375 0.3453125\n",
      "11 0.55390625 0.8953125 0.315625 0.20859375\n",
      "Label data for C:\\ckt\\circuits.v1i.yolov8v2\\train\\images\\Screenshot-2024-02-10-232332_png.rf.ade599d3ca71907efa28c1709e8cc4e8.jpg: 6 0.77421875 0.3875 0.33125 0.1171875\n",
      "3 0.421875 0.1859375 0.3453125 0.278125\n",
      "11 0.1046875 0.55390625 0.209375 0.315625\n",
      "Label data for C:\\ckt\\circuits.v1i.yolov8v2\\train\\images\\Screenshot-2024-02-10-232337_png.rf.17ebda3ab7c15b89b2c00c46650e88d7.jpg: 11 0.53125 0.13046875 0.259375 0.196875\n",
      "11 0.8171875 0.43203125 0.115625 0.328125\n",
      "4 0.54140625 0.771875 0.0828125 0.2734375\n",
      "Label data for C:\\ckt\\circuits.v1i.yolov8v2\\train\\images\\Screenshot-2024-02-10-232337_png.rf.2a0465ceaeb62ec4a32c964b3e5b837c.jpg: 11 0.46875 0.13046875 0.26015625 0.196875\n",
      "11 0.1828125 0.43203125 0.11640625 0.32890625\n",
      "4 0.45859375 0.771875 0.0828125 0.2734375\n",
      "Label data for C:\\ckt\\circuits.v1i.yolov8v2\\train\\images\\Screenshot-2024-02-10-232343_png.rf.15949ab517da6b5a4d3931a7dbad50e9.jpg: 14 0.8734375 0.4 0.11875 0.2125\n",
      "14 0.60390625 0.46484375 0.1015625 0.1875\n",
      "9 0.3828125 0.51328125 0.2109375 0.25\n",
      "Label data for C:\\ckt\\circuits.v1i.yolov8v2\\train\\images\\Screenshot-2024-02-10-232343_png.rf.427c63ed36237f1e9db0e42eb6e51a92.jpg: 14 0.1265625 0.4 0.11953125 0.21328125\n",
      "14 0.39609375 0.46484375 0.1015625 0.18671875\n",
      "9 0.6171875 0.51328125 0.2109375 0.25\n",
      "Label data for C:\\ckt\\circuits.v1i.yolov8v2\\train\\images\\Screenshot-2024-02-10-232354_png.rf.c8c8f0d19692a23e0a32227a630ddc4a.jpg: 14 0.56953125 0.275 0.20625 0.125\n",
      "14 0.33203125 0.71640625 0.159375 0.11875\n",
      "9 0.63046875 0.72890625 0.1953125 0.3375\n",
      "Label data for C:\\ckt\\circuits.v1i.yolov8v2\\train\\images\\Screenshot-2024-02-10-232354_png.rf.e9ba2843fcef22c38d0f426d79493f5a.jpg: 14 0.275 0.56953125 0.125 0.20703125\n",
      "14 0.71640625 0.33203125 0.11796875 0.15859375\n",
      "9 0.72890625 0.63046875 0.3375 0.1953125\n",
      "Label data for C:\\ckt\\circuits.v1i.yolov8v2\\train\\images\\Screenshot-2024-02-10-232406_png.rf.3a3fbbddc77e34868e20988c3f5234ca.jpg: 14 0.6015625 0.20625 0.2375 0.228125\n",
      "14 0.69140625 0.73203125 0.253125 0.165625\n",
      "4 0.41953125 0.4640625 0.25625 0.128125\n",
      "Label data for C:\\ckt\\circuits.v1i.yolov8v2\\train\\images\\Screenshot-2024-02-10-232406_png.rf.495230a31ccd5e50424505326bf038a8.jpg: 14 0.20625 0.3984375 0.228125 0.23828125\n",
      "14 0.73203125 0.30859375 0.165625 0.253125\n",
      "4 0.4640625 0.58046875 0.12734375 0.25546875\n",
      "Label data for C:\\ckt\\circuits.v1i.yolov8v2\\train\\images\\Screenshot-2024-02-10-232420_png.rf.66708a9f095cb6e0f977ae97df643a13.jpg: 4 0.546875 0.83125 0.0859375 0.24375\n",
      "9 0.5234375 0.24609375 0.184375 0.26953125\n",
      "9 0.28203125 0.53671875 0.2515625 0.2171875\n",
      "Label data for C:\\ckt\\circuits.v1i.yolov8v2\\train\\images\\Screenshot-2024-02-10-232420_png.rf.c4e0a34ab7bb3f9d59b038109c3a1374.jpg: 4 0.83125 0.453125 0.24375 0.0859375\n",
      "9 0.24609375 0.4765625 0.26875 0.184375\n",
      "9 0.53671875 0.71796875 0.2171875 0.2515625\n",
      "Label data for C:\\ckt\\circuits.v1i.yolov8v2\\train\\images\\Screenshot-2024-02-10-232427_png.rf.010c7a6c15217b1d96e542fe2dded867.jpg: 12 0.24453125 0.46640625 0.27578125 0.35\n",
      "14 0.56484375 0.490625 0.11796875 0.20703125\n",
      "14 0.771875 0.48984375 0.11171875 0.18671875\n",
      "Label data for C:\\ckt\\circuits.v1i.yolov8v2\\train\\images\\Screenshot-2024-02-10-232427_png.rf.e99cdf597e16cda8a53533fdf33c774c.jpg: 12 0.75546875 0.53359375 0.275 0.35\n",
      "14 0.43515625 0.509375 0.11875 0.20625\n",
      "14 0.228125 0.51015625 0.1125 0.1875\n",
      "Label data for C:\\ckt\\circuits.v1i.yolov8v2\\train\\images\\Screenshot-2024-02-10-232435_png.rf.42645d98ec6d6441db503742f97c8145.jpg: 4 0.4203125 0.18984375 0.13515625 0.20859375\n",
      "4 0.18125 0.41328125 0.27421875 0.17421875\n",
      "7 0.5546875 0.678125 0.44765625 0.3375\n",
      "Label data for C:\\ckt\\circuits.v1i.yolov8v2\\train\\images\\Screenshot-2024-02-10-232435_png.rf.670cca3800b18ddfb0d15f5973969ee4.jpg: 4 0.18984375 0.4203125 0.209375 0.134375\n",
      "4 0.41328125 0.18125 0.175 0.275\n",
      "7 0.678125 0.5546875 0.3375 0.446875\n",
      "Label data for C:\\ckt\\circuits.v1i.yolov8v2\\train\\images\\Screenshot-2024-02-10-232803_png.rf.5ccffbc46d73437d7c6bb03dce744567.jpg: 14 0.44375 0.1828125 0.2296875 0.2\n",
      "4 0.10390625 0.43203125 0.1859375 0.16015625\n",
      "Label data for C:\\ckt\\circuits.v1i.yolov8v2\\train\\images\\Screenshot-2024-02-10-232803_png.rf.acc8cc3effe4a0d6edd0157190f6d4f4.jpg: 14 0.1828125 0.44375 0.2 0.2296875\n",
      "4 0.43203125 0.10390625 0.159375 0.1859375\n",
      "Label data for C:\\ckt\\circuits.v1i.yolov8v2\\train\\images\\Screenshot-2024-02-10-232819_png.rf.27235273db6d90168df7115e409ad340.jpg: 14 0.53359375 0.759375 0.215625 0.196875\n",
      "6 0.478125 0.24375 0.303125 0.4234375\n",
      "Label data for C:\\ckt\\circuits.v1i.yolov8v2\\train\\images\\Screenshot-2024-02-10-232819_png.rf.b4aca606512be3ae95244f4af02e80de.jpg: 14 0.240625 0.46640625 0.19609375 0.215625\n",
      "6 0.75625 0.521875 0.4234375 0.30234375\n",
      "Label data for C:\\ckt\\circuits.v1i.yolov8v2\\train\\images\\Screenshot-2024-02-10-232826_png.rf.0974d0f5b0cde3ba72c479f63b8dc171.jpg: 4 0.68046875 0.47890625 0.21796875 0.153125\n",
      "14 0.36875 0.134375 0.13984375 0.16484375\n",
      "8 0.16328125 0.49921875 0.28125 0.4140625\n",
      "Label data for C:\\ckt\\circuits.v1i.yolov8v2\\train\\images\\Screenshot-2024-02-10-232826_png.rf.8063dedfda8678de18a0a8a6b10bbaf2.jpg: 4 0.31953125 0.52109375 0.21875 0.153125\n",
      "14 0.63125 0.865625 0.140625 0.165625\n",
      "8 0.83671875 0.50078125 0.28125 0.4140625\n",
      "Label data for C:\\ckt\\circuits.v1i.yolov8v2\\train\\images\\Screenshot-2024-02-10-232839_png.rf.94b5d0d68f94dcbb4db3c4b6f7fd1791.jpg: 14 0.171875 0.4234375 0.14140625 0.23203125\n",
      "12 0.71015625 0.440625 0.2984375 0.35859375\n",
      "10 0.7484375 0.82734375 0.359375 0.18671875\n",
      "Label data for C:\\ckt\\circuits.v1i.yolov8v2\\train\\images\\Screenshot-2024-02-10-232839_png.rf.d50900683ff36045f9fe3b2360afd9af.jpg: 14 0.5765625 0.828125 0.23125 0.1421875\n",
      "12 0.559375 0.28984375 0.359375 0.2984375\n",
      "10 0.17265625 0.2515625 0.1875 0.359375\n",
      "Label data for C:\\ckt\\circuits.v1i.yolov8v2\\train\\images\\Screenshot-2024-02-10-232844_png.rf.7a6bdae2ab96df0e018f536dfad02ab2.jpg: 13 0.2703125 0.45 0.38671875 0.48515625\n",
      "Label data for C:\\ckt\\circuits.v1i.yolov8v2\\train\\images\\Screenshot-2024-02-10-232844_png.rf.e215ed38c1be1c46027063b303ffe906.jpg: 13 0.55 0.7296875 0.484375 0.3875\n",
      "Label data for C:\\ckt\\circuits.v1i.yolov8v2\\train\\images\\Screenshot-2024-02-10-232855_png.rf.e1a8be025ab4e26abbd0f437b780e09f.jpg: 6 0.44453125 0.26640625 0.259375 0.2375\n",
      "4 0.4859375 0.58671875 0.096875 0.1625\n",
      "Label data for C:\\ckt\\circuits.v1i.yolov8v2\\train\\images\\Screenshot-2024-02-10-232855_png.rf.fc0950b4c7d75c7707dbd43ba47993cb.jpg: 6 0.26640625 0.44453125 0.2375 0.26015625\n",
      "4 0.58671875 0.4859375 0.16328125 0.096875\n",
      "Label data for C:\\ckt\\circuits.v1i.yolov8v2\\train\\images\\Screenshot-2024-02-10-232911_png.rf.687dd5a0cdff879864c177cc3061efa0.jpg: 11 0.14453125 0.45078125 0.18125 0.36875\n",
      "6 0.553125 0.478125 0.26875 0.30625\n",
      "Label data for C:\\ckt\\circuits.v1i.yolov8v2\\train\\images\\Screenshot-2024-02-10-232911_png.rf.c56ed0c06b626b35bfa5089aac6dc1b6.jpg: 11 0.14453125 0.45078125 0.18046875 0.36796875\n",
      "6 0.553125 0.478125 0.26796875 0.30703125\n",
      "Label data for C:\\ckt\\circuits.v1i.yolov8v2\\train\\images\\Screenshot-2024-02-10-232914_png.rf.05653f26af6e7f94f8e2ae5fe170626c.jpg: 8 0.49296875 0.48828125 0.3609375 0.346875\n",
      "4 0.85859375 0.56796875 0.21875 0.15625\n",
      "14 0.3046875 0.7765625 0.225 0.1390625\n",
      "Label data for C:\\ckt\\circuits.v1i.yolov8v2\\train\\images\\Screenshot-2024-02-10-232914_png.rf.ed9bf193daaea705ac969667f3d2e965.jpg: 8 0.51171875 0.50703125 0.34609375 0.3609375\n",
      "4 0.43203125 0.14140625 0.15625 0.21875\n",
      "14 0.2234375 0.6953125 0.1390625 0.22421875\n",
      "Label data for C:\\ckt\\circuits.v1i.yolov8v2\\train\\images\\Screenshot-2024-02-10-232925_png.rf.8369a61b8510541e294eb7f855fd83c3.jpg: 4 0.271875 0.621875 0.23203125 0.171875\n",
      "11 0.50859375 0.24140625 0.321875 0.21015625\n",
      "6 0.809375 0.6015625 0.303125 0.3203125\n",
      "Label data for C:\\ckt\\circuits.v1i.yolov8v2\\train\\images\\Screenshot-2024-02-10-232925_png.rf.dbaec22a6d24ae21cbda432ce8a28589.jpg: 4 0.378125 0.728125 0.171875 0.23125\n",
      "11 0.75859375 0.49140625 0.209375 0.321875\n",
      "6 0.3984375 0.190625 0.3203125 0.303125\n",
      "Label data for C:\\ckt\\circuits.v1i.yolov8v2\\train\\images\\Screenshot-2024-02-10-232930_png.rf.163e4c55c01a5f56f0769728c6ba6573.jpg: 10 0.16640625 0.79140625 0.20625 0.16875\n",
      "4 0.69375 0.1140625 0.20390625 0.17421875\n",
      "0 0.35390625 0.32265625 0.29453125 0.28359375\n",
      "Label data for C:\\ckt\\circuits.v1i.yolov8v2\\train\\images\\Screenshot-2024-02-10-232930_png.rf.6a518cb4a5dc68bf7a9d7cba9da0812b.jpg: 10 0.16640625 0.79140625 0.20625 0.16875\n",
      "4 0.69375 0.1140625 0.203125 0.175\n",
      "0 0.35390625 0.32265625 0.29375 0.284375\n",
      "Label data for C:\\ckt\\circuits.v1i.yolov8v2\\train\\images\\Screenshot-2024-02-10-232939_png.rf.5752b9fac1806b29bd5a05ead0ed49bc.jpg: 14 0.15703125 0.44921875 0.1046875 0.29609375\n",
      "4 0.81875 0.5234375 0.2203125 0.159375\n",
      "7 0.49453125 0.48359375 0.309375 0.42890625\n",
      "Label data for C:\\ckt\\circuits.v1i.yolov8v2\\train\\images\\Screenshot-2024-02-10-232939_png.rf.a8fc5697b6817d39bffbd5e41fc93526.jpg: 14 0.15703125 0.44921875 0.1046875 0.296875\n",
      "4 0.81875 0.5234375 0.2203125 0.159375\n",
      "7 0.49453125 0.48359375 0.309375 0.428125\n",
      "Label data for C:\\ckt\\circuits.v1i.yolov8v2\\train\\images\\Screenshot-2024-02-10-233009_png.rf.1adcc81b5808f5669fea83c9e28ad652.jpg: 12 0.13515625 0.53984375 0.17109375 0.471875\n",
      "3 0.528125 0.2359375 0.24296875 0.378125\n",
      "4 0.81171875 0.584375 0.15703125 0.1890625\n",
      "Label data for C:\\ckt\\circuits.v1i.yolov8v2\\train\\images\\Screenshot-2024-02-10-233009_png.rf.d517c66ee96780f4806205d183cc246e.jpg: 12 0.53984375 0.86484375 0.471875 0.171875\n",
      "3 0.2359375 0.471875 0.378125 0.24375\n",
      "4 0.584375 0.18828125 0.1890625 0.15625\n",
      "Label data for C:\\ckt\\circuits.v1i.yolov8v2\\train\\images\\Screenshot-2024-02-10-233021_png.rf.280cea6ec1678e0fd002aada1c84eb00.jpg: 14 0.82734375 0.50703125 0.1765625 0.2328125\n",
      "4 0.59140625 0.7546875 0.115625 0.203125\n",
      "10 0.18828125 0.76328125 0.228125 0.33125\n",
      "Label data for C:\\ckt\\circuits.v1i.yolov8v2\\train\\images\\Screenshot-2024-02-10-233021_png.rf.583e56b1854489f21a1ae48b209ae287.jpg: 14 0.50703125 0.17265625 0.2328125 0.1765625\n",
      "4 0.7546875 0.40859375 0.20390625 0.115625\n",
      "10 0.76328125 0.81171875 0.33203125 0.22890625\n",
      "Label data for C:\\ckt\\circuits.v1i.yolov8v2\\train\\images\\Screenshot-2024-02-10-233040_png.rf.26370bc5160acc012ee67d9f6079dc0b.jpg: 4 0.8375 0.49765625 0.259375 0.196875\n",
      "9 0.478125 0.225 0.225 0.31875\n",
      "14 0.47109375 0.77421875 0.178125 0.1828125\n",
      "Label data for C:\\ckt\\circuits.v1i.yolov8v2\\train\\images\\Screenshot-2024-02-10-233040_png.rf.8cf83beeba72ad1ce3625a05a4b3dea4.jpg: 4 0.1625 0.49765625 0.25859375 0.19765625\n",
      "9 0.521875 0.225 0.225 0.31953125\n",
      "14 0.52890625 0.77421875 0.17734375 0.1828125\n",
      "Label data for C:\\ckt\\circuits.v1i.yolov8v2\\train\\images\\Screenshot-2024-02-10-233047_png.rf.0679439b6fd6490c610bfb8382a02b0c.jpg: 4 0.49609375 0.17578125 0.1640625 0.20234375\n",
      "14 0.59921875 0.84375 0.21328125 0.1578125\n",
      "7 0.16796875 0.54921875 0.3359375 0.4609375\n",
      "Label data for C:\\ckt\\circuits.v1i.yolov8v2\\train\\images\\Screenshot-2024-02-10-233047_png.rf.ca5f6302ab326d691a02efcc12491079.jpg: 4 0.17578125 0.49609375 0.203125 0.1640625\n",
      "14 0.84375 0.59921875 0.1578125 0.2125\n",
      "7 0.54921875 0.16796875 0.4609375 0.3359375\n",
      "Label data for C:\\ckt\\circuits.v1i.yolov8v2\\train\\images\\Screenshot-2024-02-10-233106_png.rf.ee339e25211de17636b24547842dd68b.jpg: 14 0.153125 0.45625 0.15859375 0.20859375\n",
      "4 0.828125 0.58203125 0.3171875 0.11171875\n",
      "6 0.5359375 0.21328125 0.290625 0.26015625\n",
      "Label data for C:\\ckt\\circuits.v1i.yolov8v2\\train\\images\\Screenshot-2024-02-10-233106_png.rf.f1a6df8a5076f8a192c5aecfb5bf752b.jpg: 14 0.846875 0.45625 0.159375 0.209375\n",
      "4 0.171875 0.58203125 0.3171875 0.1125\n",
      "6 0.4640625 0.21328125 0.290625 0.259375\n",
      "Label data for C:\\ckt\\circuits.v1i.yolov8v2\\train\\images\\Screenshot-2024-02-10-233123_png.rf.4676e886dd4fc6a43597561c1595387b.jpg: 9 0.459375 0.28828125 0.21328125 0.3296875\n",
      "14 0.90078125 0.5203125 0.084375 0.26484375\n",
      "Label data for C:\\ckt\\circuits.v1i.yolov8v2\\train\\images\\Screenshot-2024-02-10-233123_png.rf.5a34a345ef0431b74de5a38159da8499.jpg: 9 0.459375 0.28828125 0.2125 0.3296875\n",
      "14 0.90078125 0.5203125 0.084375 0.265625\n",
      "Label data for C:\\ckt\\circuits.v1i.yolov8v2\\train\\images\\Screenshot-2024-02-10-233129_png.rf.932a2934a37a6534e8052eeb3568f684.jpg: 9 0.54140625 0.13359375 0.21328125 0.24375\n",
      "6 0.13984375 0.4234375 0.27890625 0.353125\n",
      "Label data for C:\\ckt\\circuits.v1i.yolov8v2\\train\\images\\Screenshot-2024-02-10-233129_png.rf.aaac9bc89edb445a6fc3d981594bdcba.jpg: 9 0.86640625 0.45859375 0.24375 0.2125\n",
      "6 0.5765625 0.86015625 0.353125 0.278125\n",
      "Label data for C:\\ckt\\circuits.v1i.yolov8v2\\train\\images\\Screenshot-2024-02-10-233134_png.rf.ee0c14765658e2001c6d2506a4f65ea9.jpg: 9 0.8390625 0.45859375 0.3109375 0.203125\n",
      "4 0.63125 0.84453125 0.1609375 0.296875\n",
      "14 0.48984375 0.1828125 0.2359375 0.134375\n",
      "Label data for C:\\ckt\\circuits.v1i.yolov8v2\\train\\images\\Screenshot-2024-02-10-233134_png.rf.faf49031dd3a243063fe1e884cff4a79.jpg: 9 0.54140625 0.1609375 0.203125 0.3109375\n",
      "4 0.15546875 0.36875 0.29609375 0.1609375\n",
      "14 0.8171875 0.51015625 0.13359375 0.2359375\n",
      "Label data for C:\\ckt\\circuits.v1i.yolov8v2\\train\\images\\Screenshot-2024-02-10-233141_png.rf.c771d714c958615baf4bd38271477363.jpg: 9 0.85859375 0.54140625 0.271875 0.2859375\n",
      "3 0.10703125 0.5875 0.209375 0.3125\n",
      "Label data for C:\\ckt\\circuits.v1i.yolov8v2\\train\\images\\Screenshot-2024-02-10-233141_png.rf.d061ee305414a60ef10e0a196d960f8d.jpg: 9 0.85859375 0.45859375 0.27109375 0.2859375\n",
      "3 0.10703125 0.4125 0.209375 0.3125\n",
      "Label data for C:\\ckt\\circuits.v1i.yolov8v2\\train\\images\\Screenshot-2024-02-10-233152_png.rf.3f357474d02d56caa4805189910eb02b.jpg: 14 0.146875 0.425 0.1125 0.22578125\n",
      "14 0.4703125 0.4859375 0.10703125 0.20234375\n",
      "4 0.7984375 0.509375 0.26328125 0.15625\n",
      "Label data for C:\\ckt\\circuits.v1i.yolov8v2\\train\\images\\Screenshot-2024-02-10-233152_png.rf.7a100081e1746f173eb2e95f72b73de5.jpg: 14 0.425 0.146875 0.225 0.1125\n",
      "14 0.4859375 0.4703125 0.203125 0.10625\n",
      "4 0.509375 0.7984375 0.15625 0.2625\n",
      "Label data for C:\\ckt\\circuits.v1i.yolov8v2\\train\\images\\Screenshot-2024-02-10-233202_png.rf.0e5efa58dcfc9b224c72f6d4c040a35c.jpg: 4 0.153125 0.38359375 0.25 0.1765625\n",
      "14 0.575 0.15625 0.20625 0.15625\n",
      "6 0.84453125 0.61875 0.27734375 0.3796875\n",
      "Label data for C:\\ckt\\circuits.v1i.yolov8v2\\train\\images\\Screenshot-2024-02-10-233202_png.rf.8c84670b2059c4769485ded85d67b660.jpg: 4 0.846875 0.61640625 0.25 0.1765625\n",
      "14 0.425 0.84375 0.20625 0.15625\n",
      "6 0.15546875 0.38125 0.278125 0.3796875\n",
      "Label data for C:\\ckt\\circuits.v1i.yolov8v2\\train\\images\\Screenshot-2024-02-10-233212_png.rf.c86eca3e0a92337b274d32af7a46c7e2.jpg: 14 0.4375 0.159375 0.2296875 0.1625\n",
      "9 0.5171875 0.45078125 0.28984375 0.2578125\n",
      "4 0.515625 0.76640625 0.18359375 0.24609375\n",
      "Label data for C:\\ckt\\circuits.v1i.yolov8v2\\train\\images\\Screenshot-2024-02-10-233212_png.rf.e455fa5bc49cc1522b3240ed9eca9087.jpg: 14 0.4375 0.840625 0.2296875 0.1625\n",
      "9 0.5171875 0.54921875 0.290625 0.2578125\n",
      "4 0.515625 0.23359375 0.184375 0.246875\n",
      "Label data for C:\\ckt\\circuits.v1i.yolov8v2\\train\\images\\Screenshot-2024-02-10-233217_png.rf.3f9db1cf27ecc53e9196161542707a1b.jpg: 9 0.175 0.46484375 0.23046875 0.26875\n",
      "7 0.5171875 0.17578125 0.303125 0.31015625\n",
      "4 0.78984375 0.57265625 0.228125 0.165625\n",
      "Label data for C:\\ckt\\circuits.v1i.yolov8v2\\train\\images\\Screenshot-2024-02-10-233217_png.rf.446fb4046f69039d555526fcd9e6e483.jpg: 9 0.46484375 0.825 0.26875 0.23125\n",
      "7 0.17578125 0.4828125 0.309375 0.303125\n",
      "4 0.57265625 0.21015625 0.165625 0.228125\n",
      "Label data for C:\\ckt\\circuits.v1i.yolov8v2\\train\\images\\Screenshot-2024-02-10-233236_png.rf.7ea080a81612ba70814438ef9a6b6dcb.jpg: 14 0.33828125 0.74921875 0.18125 0.178125\n",
      "6 0.63984375 0.775 0.253125 0.3109375\n",
      "Label data for C:\\ckt\\circuits.v1i.yolov8v2\\train\\images\\Screenshot-2024-02-10-233236_png.rf.d5577c27519a66d37da2367fd6df55bc.jpg: 14 0.66171875 0.25078125 0.18203125 0.17890625\n",
      "6 0.36015625 0.225 0.253125 0.3109375\n",
      "Label data for C:\\ckt\\circuits.v1i.yolov8v2\\train\\images\\Screenshot-2024-02-10-233239_png.rf.654a9fe6746ce75d8e371d5fba1c745c.jpg: 9 0.48125 0.809375 0.24375 0.21875\n",
      "9 0.5328125 0.28828125 0.2125 0.20625\n",
      "14 0.55 0.5171875 0.2 0.084375\n",
      "Label data for C:\\ckt\\circuits.v1i.yolov8v2\\train\\images\\Screenshot-2024-02-10-233239_png.rf.f9dbaee5fddc61f1a5e550f29f717234.jpg: 9 0.190625 0.48125 0.21953125 0.24453125\n",
      "9 0.71171875 0.5328125 0.20625 0.21171875\n",
      "14 0.4828125 0.55 0.08359375 0.2\n",
      "Label data for C:\\ckt\\circuits.v1i.yolov8v2\\train\\images\\Screenshot-2024-02-10-233242_png.rf.344fe64f44f5bb078c0a7638d220eeea.jpg: 14 0.7015625 0.36484375 0.1171875 0.203125\n",
      "10 0.45859375 0.85625 0.1875 0.228125\n",
      "0 0.34765625 0.3625 0.290625 0.3359375\n",
      "Label data for C:\\ckt\\circuits.v1i.yolov8v2\\train\\images\\Screenshot-2024-02-10-233242_png.rf.b7bdc19559feea53575933a34dd87883.jpg: 14 0.7015625 0.36484375 0.1171875 0.203125\n",
      "10 0.45859375 0.85625 0.1875 0.22890625\n",
      "0 0.34765625 0.3625 0.28984375 0.3359375\n",
      "Label data for C:\\ckt\\circuits.v1i.yolov8v2\\train\\images\\Screenshot-2024-02-10-233247_png.rf.37e423bc6f9602d3a9f0cdd130521d40.jpg: 9 0.54609375 0.20703125 0.25 0.2546875\n",
      "14 0.7359375 0.5328125 0.10703125 0.20078125\n",
      "6 0.1953125 0.3625 0.38984375 0.15078125\n",
      "Label data for C:\\ckt\\circuits.v1i.yolov8v2\\train\\images\\Screenshot-2024-02-10-233247_png.rf.dc784cfc184711de628d75b9666adb41.jpg: 9 0.54609375 0.20703125 0.25 0.2546875\n",
      "14 0.7359375 0.5328125 0.10625 0.2\n",
      "6 0.1953125 0.3625 0.390625 0.15\n",
      "Label data for C:\\ckt\\circuits.v1i.yolov8v2\\train\\images\\Screenshot-2024-02-10-233252_png.rf.288be00ec0eef7782584e4cbf899d0d5.jpg: 4 0.45703125 0.75234375 0.125 0.1984375\n",
      "14 0.509375 0.459375 0.259375 0.121875\n",
      "6 0.49375 0.19296875 0.271875 0.271875\n",
      "Label data for C:\\ckt\\circuits.v1i.yolov8v2\\train\\images\\Screenshot-2024-02-10-233252_png.rf.6b06754890a008a056ab86b12e579d56.jpg: 4 0.75234375 0.45703125 0.1984375 0.125\n",
      "14 0.459375 0.509375 0.121875 0.25859375\n",
      "6 0.19296875 0.49375 0.271875 0.27265625\n",
      "Label data for C:\\ckt\\circuits.v1i.yolov8v2\\train\\images\\Screenshot-2024-02-10-233256_png.rf.209e27053e8e074ba9f2a5b00e29ca56.jpg: 14 0.55546875 0.2078125 0.2359375 0.128125\n",
      "4 0.59375 0.48671875 0.140625 0.2125\n",
      "11 0.5453125 0.81953125 0.375 0.1703125\n",
      "Label data for C:\\ckt\\circuits.v1i.yolov8v2\\train\\images\\Screenshot-2024-02-10-233256_png.rf.2b97f99eb120ba6bb5e25b646331da99.jpg: 14 0.2078125 0.44453125 0.12734375 0.2359375\n",
      "4 0.48671875 0.40625 0.2125 0.14140625\n",
      "11 0.81953125 0.4546875 0.1703125 0.37421875\n",
      "Label data for C:\\ckt\\circuits.v1i.yolov8v2\\train\\images\\Screenshot-2024-02-10-233300_png.rf.0722c18f37d363a8664caa43d89fb633.jpg: 9 0.4421875 0.7796875 0.2296875 0.33046875\n",
      "4 0.66640625 0.75625 0.109375 0.24375\n",
      "Label data for C:\\ckt\\circuits.v1i.yolov8v2\\train\\images\\Screenshot-2024-02-10-233300_png.rf.dfa62291ca087e72d6e557ad7d381bb1.jpg: 9 0.2203125 0.5578125 0.33125 0.2296875\n",
      "4 0.24375 0.33359375 0.24375 0.109375\n",
      "Label data for C:\\ckt\\circuits.v1i.yolov8v2\\train\\images\\Screenshot-2024-02-10-233307_png.rf.c3b6d432bb99738d02c71c2a6e955b36.jpg: 4 0.64296875 0.4578125 0.140625 0.21875\n",
      "9 0.35390625 0.459375 0.2984375 0.25\n",
      "14 0.42109375 0.8125 0.2125 0.165625\n",
      "Label data for C:\\ckt\\circuits.v1i.yolov8v2\\train\\images\\Screenshot-2024-02-10-233307_png.rf.eb0ae23ed2a08dd5c58c13963f5a47a9.jpg: 4 0.64296875 0.5421875 0.13984375 0.21796875\n",
      "9 0.35390625 0.540625 0.2984375 0.25\n",
      "14 0.42109375 0.1875 0.21171875 0.165625\n",
      "Label data for C:\\ckt\\circuits.v1i.yolov8v2\\train\\images\\Screenshot-2024-02-10-233319_png.rf.2bfa442d5b7a11e0ee4d1f018f6b4dff.jpg: 7 0.603125 0.28125 0.33515625 0.3484375\n",
      "Label data for C:\\ckt\\circuits.v1i.yolov8v2\\train\\images\\Screenshot-2024-02-10-233319_png.rf.66672d86bfb843223fe43d7c237468b8.jpg: 7 0.71875 0.603125 0.3484375 0.3359375\n",
      "Label data for C:\\ckt\\circuits.v1i.yolov8v2\\train\\images\\Screenshot-2024-02-10-233342_png.rf.66d8d057fc8cea3971cf687c23729550.jpg: 5 0.21484375 0.521875 0.353125 0.315625\n",
      "4 0.50703125 0.20703125 0.16875 0.303125\n",
      "14 0.72890625 0.51171875 0.1875 0.2546875\n",
      "Label data for C:\\ckt\\circuits.v1i.yolov8v2\\train\\images\\Screenshot-2024-02-10-233342_png.rf.927e4e206618815312f3c518c4711f1f.jpg: 5 0.521875 0.21484375 0.315625 0.35390625\n",
      "4 0.20703125 0.50703125 0.303125 0.16796875\n",
      "14 0.51171875 0.72890625 0.2546875 0.18828125\n",
      "Label data for C:\\ckt\\circuits.v1i.yolov8v2\\train\\images\\Screenshot-2024-02-10-233348_png.rf.75a5c64eede67e9e3e74e165c3483638.jpg: 14 0.58203125 0.18125 0.3 0.1203125\n",
      "9 0.4546875 0.52578125 0.25 0.240625\n",
      "6 0.48359375 0.8671875 0.309375 0.221875\n",
      "Label data for C:\\ckt\\circuits.v1i.yolov8v2\\train\\images\\Screenshot-2024-02-10-233348_png.rf.dc3641d7963dc5496a7630dfd9011dd2.jpg: 14 0.18125 0.41796875 0.1203125 0.3\n",
      "9 0.52578125 0.5453125 0.24140625 0.25\n",
      "6 0.8671875 0.51640625 0.22109375 0.30859375\n",
      "Label data for C:\\ckt\\circuits.v1i.yolov8v2\\train\\images\\Screenshot-2024-02-10-233356_png.rf.b3a7c35a4b967dfeaa846fb6224c6e4a.jpg: 8 0.4765625 0.25546875 0.390625 0.278125\n",
      "12 0.4296875 0.5484375 0.396875 0.1859375\n",
      "Label data for C:\\ckt\\circuits.v1i.yolov8v2\\train\\images\\Screenshot-2024-02-10-233356_png.rf.b7a92eb81db9d6ecba847d183a5196a4.jpg: 8 0.25546875 0.5234375 0.278125 0.38984375\n",
      "12 0.5484375 0.5703125 0.1859375 0.39609375\n",
      "Label data for C:\\ckt\\circuits.v1i.yolov8v2\\train\\images\\Screenshot-2024-02-10-233359_png.rf.ae24852ef9b3c0031f585749427757f1.jpg: 14 0.8375 0.465625 0.153125 0.146875\n",
      "14 0.53828125 0.44921875 0.15625 0.153125\n",
      "14 0.215625 0.48203125 0.2125 0.175\n",
      "Label data for C:\\ckt\\circuits.v1i.yolov8v2\\train\\images\\Screenshot-2024-02-10-233359_png.rf.e472dade47037a436caf08420ca35090.jpg: 14 0.465625 0.1625 0.14609375 0.153125\n",
      "14 0.44921875 0.46171875 0.15390625 0.15625\n",
      "14 0.48203125 0.784375 0.17578125 0.2125\n",
      "Label data for C:\\ckt\\circuits.v1i.yolov8v2\\train\\images\\Screenshot-2024-02-10-233411_png.rf.405ee323ddb3b0abf8aadf20476a3692.jpg: 9 0.5234375 0.1484375 0.1984375 0.2734375\n",
      "9 0.49765625 0.5421875 0.228125 0.271875\n",
      "Label data for C:\\ckt\\circuits.v1i.yolov8v2\\train\\images\\Screenshot-2024-02-10-233411_png.rf.5ac09a65e81f90c82204e5a67fa7663a.jpg: 9 0.1484375 0.4765625 0.2734375 0.1984375\n",
      "9 0.5421875 0.50234375 0.27109375 0.228125\n",
      "Label data for C:\\ckt\\circuits.v1i.yolov8v2\\train\\images\\Screenshot-2024-02-10-233417_png.rf.310fbad668cf868a51b56d6e59603284.jpg: 4 0.84453125 0.50234375 0.228125 0.103125\n",
      "4 0.5375 0.4921875 0.2125 0.1296875\n",
      "9 0.18359375 0.50390625 0.2875 0.234375\n",
      "Label data for C:\\ckt\\circuits.v1i.yolov8v2\\train\\images\\Screenshot-2024-02-10-233417_png.rf.cefab627d4fbb5252ad9a717ba43e318.jpg: 4 0.49765625 0.15546875 0.10234375 0.228125\n",
      "4 0.5078125 0.4625 0.1296875 0.21328125\n",
      "9 0.49609375 0.81640625 0.23515625 0.2875\n",
      "Label data for C:\\ckt\\circuits.v1i.yolov8v2\\train\\images\\Screenshot-2024-02-10-233429_png.rf.1cd865663d9a584cf99cbc1a752d1e51.jpg: 9 0.40078125 0.83828125 0.1828125 0.2875\n",
      "12 0.8 0.34140625 0.23125 0.39375\n",
      "Label data for C:\\ckt\\circuits.v1i.yolov8v2\\train\\images\\Screenshot-2024-02-10-233429_png.rf.c764592220490ba75b66909c3968b690.jpg: 9 0.59921875 0.16171875 0.1828125 0.28828125\n",
      "12 0.2 0.65859375 0.23125 0.39375\n",
      "Label data for C:\\ckt\\circuits.v1i.yolov8v2\\train\\images\\Screenshot-2024-02-10-233436_png.rf.1f8ea76da1d31bb704bd7109385f8796.jpg: 7 0.50234375 0.73203125 0.3234375 0.321875\n",
      "14 0.13125 0.434375 0.09375 0.2109375\n",
      "14 0.78203125 0.50703125 0.103125 0.234375\n",
      "Label data for C:\\ckt\\circuits.v1i.yolov8v2\\train\\images\\Screenshot-2024-02-10-233436_png.rf.bc17cdc4ed4ecd82f9b0e7b694468d3f.jpg: 7 0.50234375 0.26796875 0.3234375 0.32109375\n",
      "14 0.13125 0.565625 0.09296875 0.21015625\n",
      "14 0.78203125 0.49296875 0.10234375 0.23359375\n",
      "Label data for C:\\ckt\\circuits.v1i.yolov8v2\\train\\images\\Screenshot-2024-02-10-233441_png.rf.0d874c977e196d4423427712fef38213.jpg: 14 0.44140625 0.15 0.26875 0.1125\n",
      "6 0.46015625 0.47421875 0.2078125 0.30625\n",
      "5 0.471875 0.83125 0.271875 0.2859375\n",
      "Label data for C:\\ckt\\circuits.v1i.yolov8v2\\train\\images\\Screenshot-2024-02-10-233441_png.rf.bf3c7c0971394db20b1a328ba00e342f.jpg: 14 0.85 0.44140625 0.11171875 0.26875\n",
      "6 0.52578125 0.46015625 0.30546875 0.2078125\n",
      "5 0.16875 0.471875 0.2859375 0.271875\n",
      "Label data for C:\\ckt\\circuits.v1i.yolov8v2\\train\\images\\Screenshot-2024-02-10-233449_png.rf.00bbc4dd5d2ef9e9a9cfc73b28815652.jpg: 9 0.53359375 0.14140625 0.2390625 0.2359375\n",
      "9 0.553125 0.43125 0.25234375 0.22734375\n",
      "4 0.4890625 0.784375 0.159375 0.2453125\n",
      "Label data for C:\\ckt\\circuits.v1i.yolov8v2\\train\\images\\Screenshot-2024-02-10-233449_png.rf.bac6697e4b791efd6b40ae0ffd1adcbd.jpg: 9 0.53359375 0.14140625 0.2390625 0.2359375\n",
      "9 0.553125 0.43125 0.253125 0.228125\n",
      "4 0.4890625 0.784375 0.159375 0.2453125\n",
      "Label data for C:\\ckt\\circuits.v1i.yolov8v2\\train\\images\\Screenshot-2024-02-10-233457_png.rf.877f99a6009a94fd6d3c3f35ea83a5e2.jpg: 4 0.44375 0.60859375 0.128125 0.225\n",
      "4 0.675 0.6 0.1078125 0.25\n",
      "8 0.51171875 0.31171875 0.346875 0.315625\n",
      "Label data for C:\\ckt\\circuits.v1i.yolov8v2\\train\\images\\Screenshot-2024-02-10-233457_png.rf.e60c904ab4085871486fea8727d138fa.jpg: 4 0.44375 0.60859375 0.12890625 0.22578125\n",
      "4 0.675 0.6 0.1078125 0.24921875\n",
      "8 0.51171875 0.31171875 0.346875 0.315625\n",
      "Label data for C:\\ckt\\circuits.v1i.yolov8v2\\train\\images\\Screenshot-2024-02-10-233516_png.rf.0041d644dc585d56fcdfcb86d77ab373.jpg: 14 0.5234375 0.19765625 0.23125 0.140625\n",
      "14 0.25546875 0.3859375 0.153125 0.259375\n",
      "9 0.74765625 0.50390625 0.265625 0.253125\n",
      "Label data for C:\\ckt\\circuits.v1i.yolov8v2\\train\\images\\Screenshot-2024-02-10-233516_png.rf.5fbb6eddfd6105cc41bef2afecfd24a4.jpg: 14 0.5234375 0.19765625 0.23125 0.14140625\n",
      "14 0.25546875 0.3859375 0.15234375 0.259375\n",
      "9 0.74765625 0.50390625 0.26640625 0.25390625\n",
      "Label data for C:\\ckt\\circuits.v1i.yolov8v2\\train\\images\\Screenshot-2024-02-10-233625_png.rf.272fce5324becface86ff468447f5e70.jpg: 11 0.56953125 0.16328125 0.2203125 0.1796875\n",
      "4 0.54609375 0.44140625 0.12890625 0.26484375\n",
      "9 0.54375 0.78828125 0.1421875 0.30625\n",
      "Label data for C:\\ckt\\circuits.v1i.yolov8v2\\train\\images\\Screenshot-2024-02-10-233625_png.rf.a5d49a41bc44dd6c3093c3a3440744a8.jpg: 11 0.43046875 0.83671875 0.2203125 0.1796875\n",
      "4 0.45390625 0.55859375 0.128125 0.265625\n",
      "9 0.45625 0.21171875 0.1421875 0.30625\n",
      "Label data for C:\\ckt\\circuits.v1i.yolov8v2\\train\\images\\Screenshot-2024-02-10-233657_png.rf.065617bbf6eb98c10d898a4b456a0897.jpg: 9 0.29765625 0.5515625 0.1953125 0.23828125\n",
      "8 0.66953125 0.63515625 0.346875 0.353125\n",
      "Label data for C:\\ckt\\circuits.v1i.yolov8v2\\train\\images\\Screenshot-2024-02-10-233657_png.rf.1680004fc5b49a07b1bddcc193449c20.jpg: 9 0.70234375 0.5515625 0.1953125 0.2375\n",
      "8 0.33046875 0.63515625 0.346875 0.353125\n",
      "Label data for C:\\ckt\\circuits.v1i.yolov8v2\\train\\images\\Screenshot-2024-02-10-233713_png.rf.75ad942b735f4bd4c9dbf32e191fc9d8.jpg: 14 0.2234375 0.5765625 0.1640625 0.225\n",
      "3 0.57421875 0.57109375 0.2203125 0.3125\n",
      "11 0.83984375 0.6 0.115625 0.284375\n",
      "Label data for C:\\ckt\\circuits.v1i.yolov8v2\\train\\images\\Screenshot-2024-02-10-233713_png.rf.9698359e8597bf27d092c9029a109401.jpg: 14 0.2234375 0.5765625 0.1640625 0.22578125\n",
      "3 0.57421875 0.57109375 0.2203125 0.31328125\n",
      "11 0.83984375 0.6 0.115625 0.284375\n",
      "Label data for C:\\ckt\\circuits.v1i.yolov8v2\\train\\images\\Screenshot-2024-02-10-233735_png.rf.1ccb8e8691e2dc5911f1968dad4bd58a.jpg: 15 0.50859375 0.20390625 0.25 0.259375\n",
      "7 0.47734375 0.49453125 0.26484375 0.26875\n",
      "14 0.5171875 0.75078125 0.1703125 0.1328125\n",
      "Label data for C:\\ckt\\circuits.v1i.yolov8v2\\train\\images\\Screenshot-2024-02-10-233735_png.rf.2c243049be1d99c80a134f28627f05c7.jpg: 15 0.50859375 0.79609375 0.25 0.259375\n",
      "7 0.47734375 0.50546875 0.265625 0.26875\n",
      "14 0.5171875 0.24921875 0.1703125 0.1328125\n",
      "Label data for C:\\ckt\\circuits.v1i.yolov8v2\\train\\images\\Screenshot-2024-02-10-233759_png.rf.84800a6b6a7deb65142a2b86d3ff6179.jpg: 11 0.2234375 0.60625 0.1421875 0.309375\n",
      "9 0.48203125 0.58828125 0.21875 0.18125\n",
      "15 0.75625 0.56171875 0.2046875 0.275\n",
      "Label data for C:\\ckt\\circuits.v1i.yolov8v2\\train\\images\\Screenshot-2024-02-10-233759_png.rf.aa1564a0cef8509a4b2ecca20d2dd756.jpg: 11 0.2234375 0.39375 0.1421875 0.31015625\n",
      "9 0.48203125 0.41171875 0.21796875 0.18046875\n",
      "15 0.75625 0.43828125 0.2046875 0.27421875\n",
      "Label data for C:\\ckt\\circuits.v1i.yolov8v2\\train\\images\\Screenshot-2024-02-10-233816_png.rf.2a37a2992fa4fc3e9897a1e2c68052dc.jpg: 8 0.2734375 0.5453125 0.2625 0.3421875\n",
      "3 0.58828125 0.56328125 0.215625 0.253125\n",
      "14 0.7578125 0.59296875 0.065625 0.19375\n",
      "Label data for C:\\ckt\\circuits.v1i.yolov8v2\\train\\images\\Screenshot-2024-02-10-233816_png.rf.2aaf4b0c8cade154020f1fb89f98937c.jpg: 8 0.2734375 0.4546875 0.2625 0.3421875\n",
      "3 0.58828125 0.43671875 0.215625 0.25390625\n",
      "14 0.7578125 0.40703125 0.065625 0.19453125\n",
      "Label data for C:\\ckt\\circuits.v1i.yolov8v2\\train\\images\\Screenshot-2024-02-10-233834_png.rf.d852197280170823074f06d21941705f.jpg: 4 0.2640625 0.3078125 0.13203125 0.21875\n",
      "4 0.17890625 0.590625 0.11953125 0.20390625\n",
      "14 0.4765625 0.60234375 0.18515625 0.15078125\n",
      "Label data for C:\\ckt\\circuits.v1i.yolov8v2\\train\\images\\Screenshot-2024-02-10-233834_png.rf.ddc24cfdf6c9e16eb5db72e2fdf2a8f8.jpg: 4 0.7359375 0.6921875 0.13125 0.21875\n",
      "4 0.82109375 0.409375 0.11875 0.2046875\n",
      "14 0.5234375 0.39765625 0.184375 0.15\n",
      "Label data for C:\\ckt\\circuits.v1i.yolov8v2\\train\\images\\Screenshot-2024-02-10-233908_png.rf.456654fa165a6e7e85efa13fdcc8a28c.jpg: 14 0.38359375 0.42578125 0.08671875 0.1859375\n",
      "14 0.60546875 0.45078125 0.09140625 0.1765625\n",
      "11 0.8046875 0.4375 0.11171875 0.2328125\n",
      "Label data for C:\\ckt\\circuits.v1i.yolov8v2\\train\\images\\Screenshot-2024-02-10-233908_png.rf.f410638afef7ddc0b4d3454c47456c30.jpg: 14 0.57421875 0.61640625 0.1859375 0.0875\n",
      "14 0.54921875 0.39453125 0.1765625 0.090625\n",
      "11 0.5625 0.1953125 0.2328125 0.1125\n",
      "Label data for C:\\ckt\\circuits.v1i.yolov8v2\\train\\images\\Screenshot-2024-02-10-233947_png.rf.693a54436bb98fee4fff56d30dd74c15.jpg: 14 0.62578125 0.43984375 0.075 0.209375\n",
      "14 0.43515625 0.45 0.075 0.225\n",
      "15 0.19921875 0.43125 0.221875 0.284375\n",
      "Label data for C:\\ckt\\circuits.v1i.yolov8v2\\train\\images\\Screenshot-2024-02-10-233947_png.rf.7b89c3f03370cffcf35dba9ba94acd98.jpg: 14 0.37421875 0.43984375 0.07421875 0.21015625\n",
      "14 0.56484375 0.45 0.07421875 0.225\n",
      "15 0.80078125 0.43125 0.221875 0.28515625\n",
      "Label data for C:\\ckt\\circuits.v1i.yolov8v2\\train\\images\\Screenshot-2024-02-10-234019_png.rf.b2e0a33b646a5a2c60c7efc19c805c01.jpg: 8 0.36640625 0.33125 0.396875 0.33125\n",
      "9 0.775 0.4359375 0.359375 0.2\n",
      "14 0.73671875 0.2078125 0.21875 0.115625\n",
      "Label data for C:\\ckt\\circuits.v1i.yolov8v2\\train\\images\\Screenshot-2024-02-10-234019_png.rf.bed06c3dc0455760975ed1d53d239bd1.jpg: 8 0.66875 0.36640625 0.33125 0.39765625\n",
      "9 0.5640625 0.775 0.20078125 0.359375\n",
      "14 0.7921875 0.73671875 0.115625 0.21796875\n",
      "Label data for C:\\ckt\\circuits.v1i.yolov8v2\\train\\images\\Screenshot-2024-02-10-234103_png.rf.01160da478e6a638305cb9843123704f.jpg: 8 0.2265625 0.5015625 0.20625 0.371875\n",
      "7 0.5296875 0.5359375 0.2296875 0.36328125\n",
      "6 0.78203125 0.528125 0.18671875 0.271875\n",
      "Label data for C:\\ckt\\circuits.v1i.yolov8v2\\train\\images\\Screenshot-2024-02-10-234103_png.rf.56db3573078308bfdfa4ba68b80b493a.jpg: 8 0.2265625 0.5015625 0.20625 0.371875\n",
      "7 0.5296875 0.5359375 0.2296875 0.3625\n",
      "6 0.78203125 0.528125 0.1875 0.271875\n",
      "Label data for C:\\ckt\\circuits.v1i.yolov8v2\\train\\images\\Screenshot-2024-02-10-234139_png.rf.233cf394ba3f002c8a96c0de420dccdc.jpg: 4 0.56484375 0.73359375 0.1703125 0.2140625\n",
      "14 0.51328125 0.16328125 0.24375 0.115625\n",
      "3 0.53515625 0.44453125 0.3296875 0.2234375\n",
      "Label data for C:\\ckt\\circuits.v1i.yolov8v2\\train\\images\\Screenshot-2024-02-10-234139_png.rf.adfe91a7a70f0df3adc674d90524392c.jpg: 4 0.73359375 0.56484375 0.2140625 0.1703125\n",
      "14 0.16328125 0.51328125 0.11640625 0.24453125\n",
      "3 0.44453125 0.53515625 0.2234375 0.3296875\n",
      "Label data for C:\\ckt\\circuits.v1i.yolov8v2\\train\\images\\Screenshot-2024-02-10-234205_png.rf.991ade533bc2f5b9cc74e9962b414d2d.jpg: 6 0.35625 0.31484375 0.15625 0.28671875\n",
      "14 0.07421875 0.603125 0.1015625 0.18515625\n",
      "9 0.51015625 0.7796875 0.2 0.24375\n",
      "Label data for C:\\ckt\\circuits.v1i.yolov8v2\\train\\images\\Screenshot-2024-02-10-234205_png.rf.bc01eec7711b9c2a8f3eb9252c0a3e03.jpg: 6 0.64375 0.31484375 0.15625 0.2875\n",
      "14 0.92578125 0.603125 0.1015625 0.184375\n",
      "9 0.48984375 0.7796875 0.2 0.24375\n",
      "Label data for C:\\ckt\\circuits.v1i.yolov8v2\\train\\images\\Screenshot-2024-02-10-234607_png.rf.1535f3a8ea4d1695f5159c1220b9737f.jpg: 4 0.4890625 0.2171875 0.10625 0.19296875\n",
      "9 0.5328125 0.77890625 0.18984375 0.2046875\n",
      "6 0.52578125 0.4953125 0.240625 0.26484375\n",
      "Label data for C:\\ckt\\circuits.v1i.yolov8v2\\train\\images\\Screenshot-2024-02-10-234607_png.rf.3e1ab7bd3f8a62d88dd68bae13902600.jpg: 4 0.7828125 0.4890625 0.19375 0.10625\n",
      "9 0.22109375 0.5328125 0.2046875 0.190625\n",
      "6 0.5046875 0.52578125 0.265625 0.240625\n",
      "Label data for C:\\ckt\\circuits.v1i.yolov8v2\\train\\images\\Screenshot-2024-02-10-234709_png.rf.6efc305f728b312439ff892c9e95612e.jpg: 9 0.29765625 0.590625 0.2796875 0.23984375\n",
      "11 0.63671875 0.62109375 0.11640625 0.2890625\n",
      "4 0.8921875 0.6078125 0.19296875 0.134375\n",
      "Label data for C:\\ckt\\circuits.v1i.yolov8v2\\train\\images\\Screenshot-2024-02-10-234709_png.rf.89b8f44d0f0d761235025af775544ec2.jpg: 9 0.590625 0.70234375 0.240625 0.2796875\n",
      "11 0.62109375 0.36328125 0.2890625 0.115625\n",
      "4 0.6078125 0.1078125 0.134375 0.19375\n",
      "Label data for C:\\ckt\\circuits.v1i.yolov8v2\\train\\images\\Screenshot-2024-02-10-234721_png.rf.1067e4b133080422bdf7eb595de3f09d.jpg: 14 0.21640625 0.48828125 0.171875 0.221875\n",
      "14 0.4546875 0.41953125 0.1375 0.1609375\n",
      "7 0.75546875 0.5921875 0.3484375 0.384375\n",
      "Label data for C:\\ckt\\circuits.v1i.yolov8v2\\train\\images\\Screenshot-2024-02-10-234721_png.rf.eac0774315f35c0ddcc8a4192ff65a4e.jpg: 14 0.48828125 0.21640625 0.22109375 0.17109375\n",
      "14 0.41953125 0.4546875 0.1609375 0.13671875\n",
      "7 0.5921875 0.75546875 0.38515625 0.3484375\n",
      "Label data for C:\\ckt\\circuits.v1i.yolov8v2\\train\\images\\Screenshot-2024-02-10-234733_png.rf.06fba90262acb1f2dce632249fa37a06.jpg: 14 0.29453125 0.50078125 0.10078125 0.2625\n",
      "15 0.58984375 0.5515625 0.23515625 0.3171875\n",
      "4 0.8859375 0.5125 0.228125 0.153125\n",
      "Label data for C:\\ckt\\circuits.v1i.yolov8v2\\train\\images\\Screenshot-2024-02-10-234733_png.rf.c1a066728c41d351967585013c24a74b.jpg: 14 0.50078125 0.70546875 0.2625 0.1\n",
      "15 0.5515625 0.41015625 0.3171875 0.234375\n",
      "4 0.5125 0.1140625 0.153125 0.228125\n",
      "Label data for C:\\ckt\\circuits.v1i.yolov8v2\\train\\images\\Screenshot-2024-02-10-234802_png.rf.a7ba789ef3bf2fb91880f85cfcdce28d.jpg: 14 0.2765625 0.4109375 0.1375 0.1359375\n",
      "9 0.68671875 0.36171875 0.228125 0.171875\n",
      "Label data for C:\\ckt\\circuits.v1i.yolov8v2\\train\\images\\Screenshot-2024-02-10-234802_png.rf.ddf84501719c2b561ec2d6514f7a0a42.jpg: 14 0.5890625 0.2765625 0.1359375 0.13828125\n",
      "9 0.63828125 0.68671875 0.17265625 0.22734375\n",
      "Label data for C:\\ckt\\circuits.v1i.yolov8v2\\train\\images\\Screenshot-2024-02-10-234818_png.rf.4a7d74d8e13446333460a35f6af0ac1a.jpg: 15 0.43125 0.3703125 0.2609375 0.409375\n",
      "9 0.38671875 0.78515625 0.20625 0.321875\n",
      "4 0.590625 0.78515625 0.084375 0.3109375\n",
      "Label data for C:\\ckt\\circuits.v1i.yolov8v2\\train\\images\\Screenshot-2024-02-10-234818_png.rf.79cf7ed71cca94f4fc3965c918a010aa.jpg: 15 0.43125 0.3703125 0.2609375 0.409375\n",
      "9 0.38671875 0.78515625 0.20625 0.32265625\n",
      "4 0.590625 0.78515625 0.08515625 0.3109375\n",
      "Label data for C:\\ckt\\circuits.v1i.yolov8v2\\train\\images\\Screenshot-2024-02-10-234837_png.rf.4cd08938381884b2b9eef5cb349248cc.jpg: 3 0.2578125 0.51328125 0.19296875 0.31484375\n",
      "4 0.6125 0.171875 0.09375 0.2265625\n",
      "14 0.365625 0.8046875 0.13828125 0.16171875\n",
      "Label data for C:\\ckt\\circuits.v1i.yolov8v2\\train\\images\\Screenshot-2024-02-10-234837_png.rf.63f8a0d43dc5b1fe2ca9146d9e173c0f.jpg: 3 0.48671875 0.2578125 0.315625 0.19375\n",
      "4 0.828125 0.6125 0.2265625 0.09375\n",
      "14 0.1953125 0.365625 0.1625 0.1375\n",
      "Label data for C:\\ckt\\circuits.v1i.yolov8v2\\train\\images\\Screenshot-2024-02-10-234917_png.rf.6426c7ee84967bb1709321139873267b.jpg: 9 0.55859375 0.25625 0.26328125 0.278125\n",
      "11 0.53515625 0.51875 0.2984375 0.1546875\n",
      "4 0.50859375 0.78515625 0.1640625 0.23671875\n",
      "Label data for C:\\ckt\\circuits.v1i.yolov8v2\\train\\images\\Screenshot-2024-02-10-234917_png.rf.ac7e76e92a1891375b045e2e20a4fd6d.jpg: 9 0.55859375 0.25625 0.2625 0.278125\n",
      "11 0.53515625 0.51875 0.2984375 0.1546875\n",
      "4 0.50859375 0.78515625 0.1640625 0.2375\n",
      "Label data for C:\\ckt\\circuits.v1i.yolov8v2\\train\\images\\Screenshot-2024-02-10-234930_png.rf.25b37ca0f74ffdbe54bcae9c3e637436.jpg: 8 0.34140625 0.61015625 0.20859375 0.39140625\n",
      "7 0.6015625 0.6796875 0.2140625 0.33359375\n",
      "9 0.81328125 0.6546875 0.16640625 0.22578125\n",
      "Label data for C:\\ckt\\circuits.v1i.yolov8v2\\train\\images\\Screenshot-2024-02-10-234930_png.rf.8cfe897fc7ce4d944022bfb365f924a2.jpg: 8 0.34140625 0.38984375 0.209375 0.390625\n",
      "7 0.6015625 0.3203125 0.2140625 0.334375\n",
      "9 0.81328125 0.3453125 0.165625 0.2265625\n",
      "Label data for C:\\ckt\\circuits.v1i.yolov8v2\\train\\images\\Screenshot-2024-02-11-000514_png.rf.5eca0967af600cc2581e0be525b064bc.jpg: 4 0.7609375 0.40703125 0.19375 0.1875\n",
      "14 0.353125 0.12734375 0.165625 0.190625\n",
      "0 0.3796875 0.5015625 0.2359375 0.453125\n",
      "Label data for C:\\ckt\\circuits.v1i.yolov8v2\\train\\images\\Screenshot-2024-02-11-000514_png.rf.e234f3c8c4b67e5860f47ae0cb58da40.jpg: 4 0.7609375 0.59296875 0.19296875 0.18828125\n",
      "14 0.353125 0.87265625 0.16484375 0.19140625\n",
      "0 0.3796875 0.4984375 0.23515625 0.45234375\n",
      "Label data for C:\\ckt\\circuits.v1i.yolov8v2\\train\\images\\Screenshot-2024-02-11-000547_png.rf.0fc03e41277c5a3982af255c1fd81bc4.jpg: 9 0.1578125 0.4640625 0.309375 0.234375\n",
      "9 0.55546875 0.51484375 0.309375 0.21953125\n",
      "14 0.3484375 0.8171875 0.159375 0.18828125\n",
      "Label data for C:\\ckt\\circuits.v1i.yolov8v2\\train\\images\\Screenshot-2024-02-11-000547_png.rf.4bc6bc769a7b1f105580c7190ac26fda.jpg: 9 0.5359375 0.1578125 0.234375 0.309375\n",
      "9 0.48515625 0.55546875 0.21875 0.309375\n",
      "14 0.1828125 0.3484375 0.1875 0.159375\n",
      "Label data for C:\\ckt\\circuits.v1i.yolov8v2\\train\\images\\Screenshot-2024-02-11-000556_png.rf.6253e6ba25cf3816f8a21837091591cb.jpg: 4 0.25234375 0.35390625 0.22734375 0.16484375\n",
      "11 0.5 0.42578125 0.11640625 0.30859375\n",
      "10 0.7765625 0.490625 0.290625 0.2078125\n",
      "Label data for C:\\ckt\\circuits.v1i.yolov8v2\\train\\images\\Screenshot-2024-02-11-000556_png.rf.c29cd044b714623ee31c3e9e81a0bf66.jpg: 4 0.35390625 0.74765625 0.165625 0.228125\n",
      "11 0.42578125 0.5 0.309375 0.115625\n",
      "10 0.490625 0.2234375 0.2078125 0.290625\n",
      "Label data for C:\\ckt\\circuits.v1i.yolov8v2\\train\\images\\Screenshot-2024-02-11-000606_png.rf.c51b1154310f094a01d7a14db46401c8.jpg: 8 0.31328125 0.52734375 0.3734375 0.3828125\n",
      "14 0.74375 0.5609375 0.17734375 0.19296875\n",
      "4 0.58359375 0.77578125 0.1421875 0.225\n",
      "Label data for C:\\ckt\\circuits.v1i.yolov8v2\\train\\images\\Screenshot-2024-02-11-000606_png.rf.c89b3ca0440c64aea8b238923f4ef861.jpg: 8 0.68671875 0.52734375 0.3734375 0.3828125\n",
      "14 0.25625 0.5609375 0.178125 0.19375\n",
      "4 0.41640625 0.77578125 0.1421875 0.225\n",
      "Label data for C:\\ckt\\circuits.v1i.yolov8v2\\train\\images\\Screenshot-2024-02-11-000616_png.rf.6aedcc26af3de9807e926f858dd9b25d.jpg: 4 0.33515625 0.56875 0.184375 0.15625\n",
      "6 0.625 0.6203125 0.2625 0.134375\n",
      "14 0.50625 0.33125 0.2 0.215625\n",
      "Label data for C:\\ckt\\circuits.v1i.yolov8v2\\train\\images\\Screenshot-2024-02-11-000616_png.rf.981e361161d0838e9c7e02eb67e98e09.jpg: 4 0.33515625 0.43125 0.18359375 0.15625\n",
      "6 0.625 0.3796875 0.26171875 0.13515625\n",
      "14 0.50625 0.66875 0.2 0.21484375\n",
      "Label data for C:\\ckt\\circuits.v1i.yolov8v2\\train\\images\\Screenshot-2024-02-11-000631_png.rf.54c31c9495a0818f9b7550cd72a3bc9b.jpg: 14 0.59375 0.225 0.16640625 0.20625\n",
      "4 0.83515625 0.390625 0.16640625 0.16015625\n",
      "6 0.36171875 0.59453125 0.2578125 0.375\n",
      "Label data for C:\\ckt\\circuits.v1i.yolov8v2\\train\\images\\Screenshot-2024-02-11-000631_png.rf.8b0efc8a41eeb30cdfce8731373ff37d.jpg: 14 0.225 0.40625 0.20625 0.165625\n",
      "4 0.390625 0.16484375 0.159375 0.165625\n",
      "6 0.59453125 0.63828125 0.375 0.2578125\n",
      "Label data for C:\\ckt\\circuits.v1i.yolov8v2\\train\\images\\Screenshot-2024-02-11-000645_png.rf.f2bffe2c3e21daf4cb48bfdc2177ebb6.jpg: 6 0.47109375 0.16953125 0.30234375 0.30390625\n",
      "9 0.44921875 0.48984375 0.30546875 0.271875\n",
      "14 0.06015625 0.77421875 0.1203125 0.2046875\n",
      "Label data for C:\\ckt\\circuits.v1i.yolov8v2\\train\\images\\Screenshot-2024-02-11-000645_png.rf.fb6e146bcd19230ee19101a9e12c40ec.jpg: 6 0.52890625 0.16953125 0.303125 0.303125\n",
      "9 0.55078125 0.48984375 0.30625 0.271875\n",
      "14 0.93984375 0.77421875 0.1203125 0.2046875\n",
      "Label data for C:\\ckt\\circuits.v1i.yolov8v2\\train\\images\\Screenshot-2024-02-11-000657_png.rf.361dbdbddae9206d89da776071cd285d.jpg: 6 0.4375 0.79765625 0.3359375 0.3234375\n",
      "9 0.43671875 0.48828125 0.215625 0.265625\n",
      "14 0.784375 0.22109375 0.096875 0.1625\n",
      "Label data for C:\\ckt\\circuits.v1i.yolov8v2\\train\\images\\Screenshot-2024-02-11-000657_png.rf.6d7227d488c46e229a5ac69a588ff6d2.jpg: 6 0.5625 0.20234375 0.3359375 0.3234375\n",
      "9 0.56328125 0.51171875 0.215625 0.265625\n",
      "14 0.215625 0.77890625 0.09609375 0.16328125\n",
      "Label data for C:\\ckt\\circuits.v1i.yolov8v2\\train\\images\\Screenshot-2024-02-11-000708_png.rf.e28d9c03228be7fe6f507caeef86c0f6.jpg: 9 0.17265625 0.50859375 0.2765625 0.18359375\n",
      "4 0.80546875 0.41328125 0.2921875 0.14375\n",
      "7 0.48671875 0.6171875 0.3203125 0.31015625\n",
      "Label data for C:\\ckt\\circuits.v1i.yolov8v2\\train\\images\\Screenshot-2024-02-11-000708_png.rf.ffbec99bff3e0a49809f0b46b2e7bce5.jpg: 9 0.50859375 0.17265625 0.184375 0.2765625\n",
      "4 0.41328125 0.80546875 0.14375 0.2921875\n",
      "7 0.6171875 0.48671875 0.309375 0.3203125\n",
      "Label data for C:\\ckt\\circuits.v1i.yolov8v2\\train\\images\\Screenshot-2024-02-11-000731_png.rf.9d11414f898d429cc5892d92380f5f17.jpg: 5 0.2109375 0.509375 0.21953125 0.35859375\n",
      "7 0.5046875 0.525 0.228125 0.39609375\n",
      "3 0.7984375 0.5515625 0.23671875 0.33828125\n",
      "Label data for C:\\ckt\\circuits.v1i.yolov8v2\\train\\images\\Screenshot-2024-02-11-000731_png.rf.ac42a86bc17d6e5d5e0fb8e24f104eee.jpg: 5 0.509375 0.7890625 0.359375 0.21875\n",
      "7 0.525 0.4953125 0.396875 0.228125\n",
      "3 0.5515625 0.2015625 0.3375 0.2375\n",
      "Label data for C:\\ckt\\circuits.v1i.yolov8v2\\train\\images\\Screenshot-2024-02-11-000741_png.rf.9f51a53e2eb63bc89ec9eb72b91eb1aa.jpg: 11 0.16953125 0.45 0.1546875 0.3765625\n",
      "5 0.4875 0.58046875 0.33515625 0.31640625\n",
      "14 0.796875 0.5875 0.1140625 0.22109375\n",
      "Label data for C:\\ckt\\circuits.v1i.yolov8v2\\train\\images\\Screenshot-2024-02-11-000741_png.rf.c11893791f6ef60ede410af7c07ebd2f.jpg: 11 0.83046875 0.55 0.1546875 0.3765625\n",
      "5 0.5125 0.41953125 0.3359375 0.315625\n",
      "14 0.203125 0.4125 0.1140625 0.221875\n",
      "Label data for C:\\ckt\\circuits.v1i.yolov8v2\\train\\images\\Screenshot-2024-02-11-000753_png.rf.2a1a01d31e1601dd6ba3363d6e0fe7c8.jpg: 9 0.421875 0.525 0.259375 0.30625\n",
      "9 0.59765625 0.1546875 0.265625 0.284375\n",
      "15 0.3359375 0.84453125 0.25625 0.26875\n",
      "14 0.95078125 0.36875 0.0984375 0.1625\n",
      "Label data for C:\\ckt\\circuits.v1i.yolov8v2\\train\\images\\Screenshot-2024-02-11-000753_png.rf.fdb74f1fa33c23c55f0e2804535a6514.jpg: 9 0.525 0.578125 0.30625 0.26015625\n",
      "9 0.1546875 0.40234375 0.284375 0.265625\n",
      "15 0.84453125 0.6640625 0.26875 0.25703125\n",
      "14 0.36875 0.04921875 0.1625 0.0984375\n",
      "Label data for C:\\ckt\\circuits.v1i.yolov8v2\\train\\images\\Screenshot-2024-02-11-000822_png.rf.0a6e6a6e177c2b928b9397c134ebfafb.jpg: 4 0.6484375 0.8140625 0.0921875 0.2296875\n",
      "3 0.47578125 0.271875 0.2390625 0.3\n",
      "7 0.38515625 0.83046875 0.2734375 0.3328125\n",
      "Label data for C:\\ckt\\circuits.v1i.yolov8v2\\train\\images\\Screenshot-2024-02-11-000822_png.rf.6ffe532cd2236c335513b6e9ac1ab2de.jpg: 4 0.6484375 0.1859375 0.0921875 0.2296875\n",
      "3 0.47578125 0.728125 0.2390625 0.30078125\n",
      "7 0.38515625 0.16953125 0.2734375 0.3328125\n",
      "Label data for C:\\ckt\\circuits.v1i.yolov8v2\\train\\images\\Screenshot-2024-02-11-000832_png.rf.0f4c21395ea9f18c9d61d299d35b0987.jpg: 7 0.5546875 0.19375 0.4 0.334375\n",
      "14 0.46640625 0.4984375 0.253125 0.0953125\n",
      "4 0.4421875 0.77578125 0.159375 0.240625\n",
      "Label data for C:\\ckt\\circuits.v1i.yolov8v2\\train\\images\\Screenshot-2024-02-11-000832_png.rf.1ae35f2d836914b282070d28a2b9efce.jpg: 7 0.80625 0.5546875 0.33359375 0.4\n",
      "14 0.5015625 0.46640625 0.0953125 0.253125\n",
      "4 0.22421875 0.4421875 0.240625 0.15859375\n",
      "Label data for C:\\ckt\\circuits.v1i.yolov8v2\\train\\images\\Screenshot-2024-02-11-000841_png.rf.22a1e2d3245e82aa42b250efa9cb00da.jpg: 4 0.53125 0.7875 0.1796875 0.24453125\n",
      "14 0.475 0.546875 0.2703125 0.12109375\n",
      "5 0.46796875 0.25078125 0.31796875 0.29375\n",
      "Label data for C:\\ckt\\circuits.v1i.yolov8v2\\train\\images\\Screenshot-2024-02-11-000841_png.rf.f16b7446c92efbf9d55cdacc33c17f0a.jpg: 4 0.7875 0.46875 0.24375 0.1796875\n",
      "14 0.546875 0.525 0.121875 0.2703125\n",
      "5 0.25078125 0.53203125 0.29375 0.31875\n",
      "Label data for C:\\ckt\\circuits.v1i.yolov8v2\\train\\images\\Screenshot-2024-02-11-000900_png.rf.6b9b84cee0a3996709c0d028ddaf2d5d.jpg: 9 0.50703125 0.18359375 0.19765625 0.34453125\n",
      "4 0.48984375 0.5296875 0.103125 0.26484375\n",
      "14 0.54765625 0.83984375 0.24921875 0.1796875\n",
      "Label data for C:\\ckt\\circuits.v1i.yolov8v2\\train\\images\\Screenshot-2024-02-11-000900_png.rf.d92432eca71ed8fa1152ff48821606f1.jpg: 9 0.50703125 0.81640625 0.1984375 0.34375\n",
      "4 0.48984375 0.4703125 0.103125 0.265625\n",
      "14 0.54765625 0.16015625 0.25 0.1796875\n",
      "Label data for C:\\ckt\\circuits.v1i.yolov8v2\\train\\images\\Screenshot-2024-02-11-000910_png.rf.1481e642b60f95f35dc7f5ac28d07d72.jpg: 3 0.49921875 0.22265625 0.34765625 0.32109375\n",
      "9 0.51171875 0.515625 0.2671875 0.24765625\n",
      "4 0.34921875 0.78125 0.125 0.24140625\n",
      "Label data for C:\\ckt\\circuits.v1i.yolov8v2\\train\\images\\Screenshot-2024-02-11-000910_png.rf.763ec77b5cbba752c4ab3b4965e75a4b.jpg: 3 0.49921875 0.22265625 0.346875 0.321875\n",
      "9 0.51171875 0.515625 0.2671875 0.246875\n",
      "4 0.34921875 0.78125 0.125 0.240625\n",
      "Label data for C:\\ckt\\circuits.v1i.yolov8v2\\train\\images\\Screenshot-2024-02-11-000920_png.rf.51f2a9f7c3940ad40fbcabe948da72d2.jpg: 3 0.76171875 0.55078125 0.3140625 0.2515625\n",
      "15 0.53671875 0.24296875 0.3578125 0.3015625\n",
      "9 0.24765625 0.63984375 0.3140625 0.2203125\n",
      "Label data for C:\\ckt\\circuits.v1i.yolov8v2\\train\\images\\Screenshot-2024-02-11-000920_png.rf.87bb16e219bb977dab5918797660e2d6.jpg: 3 0.55078125 0.23828125 0.2515625 0.3140625\n",
      "15 0.24296875 0.46328125 0.3015625 0.3578125\n",
      "9 0.63984375 0.75234375 0.2203125 0.3140625\n",
      "Label data for C:\\ckt\\circuits.v1i.yolov8v2\\train\\images\\Screenshot-2024-02-11-000930_png.rf.6d295359045b3ec70dd697a3bd3fc664.jpg: 9 0.48203125 0.48125 0.2328125 0.175\n",
      "14 0.7734375 0.5515625 0.13125 0.20625\n",
      "4 0.76875 0.29609375 0.25625 0.1203125\n",
      "Label data for C:\\ckt\\circuits.v1i.yolov8v2\\train\\images\\Screenshot-2024-02-11-000930_png.rf.c7a7e6ba468eeca436a7509bb3c1a84c.jpg: 9 0.48125 0.51796875 0.175 0.2328125\n",
      "14 0.5515625 0.2265625 0.20703125 0.13203125\n",
      "4 0.29609375 0.23125 0.1203125 0.25546875\n",
      "Label data for C:\\ckt\\circuits.v1i.yolov8v2\\train\\images\\Screenshot-2024-02-11-001001_png.rf.6b8bbb44134e3e64dd58c79ae33538c4.jpg: 11 0.5015625 0.24765625 0.3125 0.2359375\n",
      "9 0.52421875 0.55234375 0.275 0.31875\n",
      "4 0.48359375 0.8453125 0.18125 0.2390625\n",
      "Label data for C:\\ckt\\circuits.v1i.yolov8v2\\train\\images\\Screenshot-2024-02-11-001001_png.rf.fabfe248d8a6478e30d99c3d69d853e4.jpg: 11 0.5015625 0.24765625 0.3125 0.2359375\n",
      "9 0.52421875 0.55234375 0.27421875 0.31875\n",
      "4 0.48359375 0.8453125 0.18125 0.2390625\n",
      "Label data for C:\\ckt\\circuits.v1i.yolov8v2\\train\\images\\Screenshot-2024-02-11-001011_png.rf.e3c8ec2bd6c47f0db5354b9eb4c3bcff.jpg: 9 0.39140625 0.32578125 0.20703125 0.271875\n",
      "11 0.68828125 0.30625 0.24609375 0.21015625\n",
      "8 0.44765625 0.6953125 0.3140625 0.32578125\n",
      "Label data for C:\\ckt\\circuits.v1i.yolov8v2\\train\\images\\Screenshot-2024-02-11-001011_png.rf.fb65351b4ecbbee5a3af40fd65d9ce08.jpg: 9 0.60859375 0.32578125 0.20625 0.271875\n",
      "11 0.31171875 0.30625 0.246875 0.209375\n",
      "8 0.55234375 0.6953125 0.3140625 0.325\n",
      "Label data for C:\\ckt\\circuits.v1i.yolov8v2\\train\\images\\Screenshot-2024-02-11-001020_png.rf.3b50aa0818b33a2847b492aa6e23c435.jpg: 15 0.74140625 0.44296875 0.221875 0.421875\n",
      "3 0.4640625 0.49453125 0.221875 0.3296875\n",
      "14 0.21328125 0.45703125 0.09375 0.25\n",
      "Label data for C:\\ckt\\circuits.v1i.yolov8v2\\train\\images\\Screenshot-2024-02-11-001020_png.rf.bfb2d64a482308e43d308f105bdffa06.jpg: 15 0.25859375 0.44296875 0.22109375 0.42265625\n",
      "3 0.5359375 0.49453125 0.22109375 0.3296875\n",
      "14 0.78671875 0.45703125 0.09296875 0.24921875\n",
      "Label data for C:\\ckt\\circuits.v1i.yolov8v2\\train\\images\\Screenshot-2024-02-11-001029_png.rf.f53110f4994c5a1a8aeca4de0669afd8.jpg: 14 0.46328125 0.7546875 0.234375 0.2453125\n",
      "9 0.41484375 0.190625 0.21484375 0.31171875\n",
      "3 0.70859375 0.23359375 0.2359375 0.36328125\n",
      "Label data for C:\\ckt\\circuits.v1i.yolov8v2\\train\\images\\Screenshot-2024-02-11-001029_png.rf.f7dceb83dc40b4a19e9148fe5094b2d2.jpg: 14 0.7546875 0.46328125 0.2453125 0.234375\n",
      "9 0.190625 0.41484375 0.3125 0.215625\n",
      "3 0.23359375 0.70859375 0.3625 0.2359375\n",
      "Label data for C:\\ckt\\circuits.v1i.yolov8v2\\train\\images\\Screenshot-2024-02-11-001039_png.rf.b47b0e124ff6b357109bd8f8132be17b.jpg: 3 0.45625 0.765625 0.34375 0.246875\n",
      "4 0.48671875 0.44296875 0.1671875 0.21875\n",
      "14 0.45078125 0.1171875 0.234375 0.140625\n",
      "Label data for C:\\ckt\\circuits.v1i.yolov8v2\\train\\images\\Screenshot-2024-02-11-001039_png.rf.ea2046f2ee8cbc059b5b8296869a2dd6.jpg: 3 0.765625 0.45625 0.246875 0.34296875\n",
      "4 0.44296875 0.48671875 0.21875 0.1671875\n",
      "14 0.1171875 0.45078125 0.14140625 0.23359375\n",
      "Label data for C:\\ckt\\circuits.v1i.yolov8v2\\train\\images\\Screenshot-2024-02-11-001104_png.rf.163928a0bf56a34713f627da7a89df56.jpg: 9 0.28671875 0.446875 0.3171875 0.2921875\n",
      "3 0.69609375 0.15625 0.31015625 0.3125\n",
      "4 0.49375 0.8046875 0.13515625 0.31875\n",
      "Label data for C:\\ckt\\circuits.v1i.yolov8v2\\train\\images\\Screenshot-2024-02-11-001104_png.rf.1efdf30589b6205d8d9c43384de047ef.jpg: 9 0.28671875 0.446875 0.3171875 0.2921875\n",
      "3 0.69609375 0.15625 0.309375 0.3125\n",
      "4 0.49375 0.8046875 0.134375 0.31875\n",
      "Label data for C:\\ckt\\circuits.v1i.yolov8v2\\train\\images\\Screenshot-2024-02-11-001114_png.rf.91d53af5a9b2f1fa56c158e9ff1cbb0c.jpg: 3 0.5078125 0.234375 0.2859375 0.2953125\n",
      "14 0.446875 0.521875 0.20546875 0.14140625\n",
      "4 0.64921875 0.53359375 0.10703125 0.2171875\n",
      "Label data for C:\\ckt\\circuits.v1i.yolov8v2\\train\\images\\Screenshot-2024-02-11-001114_png.rf.f98d5e21e5e7741fccf2eac486120e99.jpg: 3 0.4921875 0.765625 0.2859375 0.2953125\n",
      "14 0.553125 0.478125 0.20625 0.140625\n",
      "4 0.35078125 0.46640625 0.10625 0.2171875\n",
      "Label data for C:\\ckt\\circuits.v1i.yolov8v2\\train\\images\\Screenshot-2024-02-11-001123_png.rf.15a9dfe7189c8907f345f73e789e0a49.jpg: 9 0.71171875 0.36796875 0.2265625 0.1609375\n",
      "9 0.70625 0.5453125 0.23828125 0.1296875\n",
      "14 0.90625 0.44453125 0.08828125 0.18125\n",
      "Label data for C:\\ckt\\circuits.v1i.yolov8v2\\train\\images\\Screenshot-2024-02-11-001123_png.rf.b7737bec952c5380bb18da30cd38cbe4.jpg: 9 0.36796875 0.71171875 0.1609375 0.2265625\n",
      "9 0.5453125 0.70625 0.1296875 0.2375\n",
      "14 0.44453125 0.90625 0.18125 0.0890625\n",
      "Label data for C:\\ckt\\circuits.v1i.yolov8v2\\train\\images\\Screenshot-2024-02-11-001143_png.rf.bd8612516bfa8b900dbbb49757d2e2b7.jpg: 14 0.784375 0.4078125 0.190625 0.175\n",
      "4 0.759375 0.675 0.228125 0.1171875\n",
      "8 0.415625 0.50546875 0.3625 0.30625\n",
      "Label data for C:\\ckt\\circuits.v1i.yolov8v2\\train\\images\\Screenshot-2024-02-11-001143_png.rf.ef67f20918463aed11ff2311ca934728.jpg: 14 0.4078125 0.215625 0.17578125 0.18984375\n",
      "4 0.675 0.240625 0.1171875 0.22734375\n",
      "8 0.50546875 0.584375 0.30703125 0.3625\n",
      "Label data for C:\\ckt\\circuits.v1i.yolov8v2\\train\\images\\Screenshot-2024-02-11-001152_png.rf.3fa5c22edef6b836ea36e4ab9ad261d3.jpg: 9 0.4 0.21015625 0.1890625 0.27265625\n",
      "9 0.4375 0.5078125 0.228125 0.240625\n",
      "3 0.53515625 0.81171875 0.35078125 0.22578125\n",
      "Label data for C:\\ckt\\circuits.v1i.yolov8v2\\train\\images\\Screenshot-2024-02-11-001152_png.rf.5abea599735aeca7f5cf6b6b0908b1d5.jpg: 9 0.78984375 0.6 0.271875 0.1890625\n",
      "9 0.4921875 0.5625 0.240625 0.228125\n",
      "3 0.18828125 0.46484375 0.225 0.35\n",
      "Label data for C:\\ckt\\circuits.v1i.yolov8v2\\train\\images\\Screenshot-2024-02-11-001201_png.rf.a56e987cd92e926ffd4841551699ef4d.jpg: 8 0.57109375 0.7390625 0.4046875 0.3515625\n",
      "8 0.49765625 0.37578125 0.3578125 0.275\n",
      "4 0.50859375 0.1203125 0.1578125 0.1828125\n",
      "Label data for C:\\ckt\\circuits.v1i.yolov8v2\\train\\images\\Screenshot-2024-02-11-001201_png.rf.bb7ed4f4e8ab8f82efb5fa9155451006.jpg: 8 0.57109375 0.2609375 0.4046875 0.3515625\n",
      "8 0.49765625 0.62421875 0.3578125 0.27421875\n",
      "4 0.50859375 0.8796875 0.1578125 0.1828125\n",
      "Label data for C:\\ckt\\circuits.v1i.yolov8v2\\train\\images\\Screenshot-2024-02-11-001210_png.rf.806f893c2b59aef163b3598f26cea45e.jpg: 3 0.20859375 0.48828125 0.3046875 0.30625\n",
      "15 0.809375 0.38125 0.3 0.265625\n",
      "4 0.5203125 0.6140625 0.278125 0.153125\n",
      "Label data for C:\\ckt\\circuits.v1i.yolov8v2\\train\\images\\Screenshot-2024-02-11-001210_png.rf.abdda69fb01049365478274a4b409a80.jpg: 3 0.51171875 0.20859375 0.30625 0.3046875\n",
      "15 0.61875 0.809375 0.265625 0.29921875\n",
      "4 0.3859375 0.5203125 0.153125 0.278125\n",
      "Label data for C:\\ckt\\circuits.v1i.yolov8v2\\train\\images\\Screenshot-2024-02-11-001219_png.rf.4625a91e01ea40fda0be4e0370c9f2a8.jpg: 14 0.409375 0.078125 0.1734375 0.15625\n",
      "6 0.453125 0.7765625 0.1453125 0.32421875\n",
      "6 0.1453125 0.3578125 0.28984375 0.16484375\n",
      "Label data for C:\\ckt\\circuits.v1i.yolov8v2\\train\\images\\Screenshot-2024-02-11-001219_png.rf.f5ae8a89dd0215b798e6974dcce30235.jpg: 14 0.078125 0.409375 0.15625 0.1734375\n",
      "6 0.7765625 0.453125 0.325 0.1453125\n",
      "6 0.3578125 0.1453125 0.165625 0.290625\n",
      "Label data for C:\\ckt\\circuits.v1i.yolov8v2\\train\\images\\Screenshot-2024-02-11-001230_png.rf.7683fde4e3dc6a89e64c734d76ece2a1.jpg: 6 0.13125 0.3953125 0.2625 0.15\n",
      "9 0.3421875 0.64453125 0.20625 0.2765625\n",
      "9 0.66796875 0.60703125 0.2453125 0.234375\n",
      "Label data for C:\\ckt\\circuits.v1i.yolov8v2\\train\\images\\Screenshot-2024-02-11-001230_png.rf.da8436d6ad849656d7af1005ca3ea672.jpg: 6 0.3953125 0.86875 0.15 0.26171875\n",
      "9 0.64453125 0.6578125 0.2765625 0.20625\n",
      "9 0.60703125 0.33203125 0.23359375 0.2453125\n",
      "Label data for C:\\ckt\\circuits.v1i.yolov8v2\\train\\images\\Screenshot-2024-02-11-001239_png.rf.23272823f5112d3f954f25e7110aac88.jpg: 14 0.83125 0.53046875 0.15625 0.196875\n",
      "14 0.28828125 0.82734375 0.203125 0.1125\n",
      "3 0.46015625 0.51796875 0.33125 0.259375\n",
      "Label data for C:\\ckt\\circuits.v1i.yolov8v2\\train\\images\\Screenshot-2024-02-11-001239_png.rf.dad8f404816f21e925b3301f205bad9e.jpg: 14 0.46953125 0.16875 0.196875 0.15703125\n",
      "14 0.17265625 0.71171875 0.11328125 0.203125\n",
      "3 0.48203125 0.53984375 0.26015625 0.33125\n",
      "Label data for C:\\ckt\\circuits.v1i.yolov8v2\\train\\images\\Screenshot-2024-02-11-001248_png.rf.9705f114e21cc763e5a82c2d6db51265.jpg: 9 0.4578125 0.18359375 0.2296875 0.284375\n",
      "14 0.65859375 0.53515625 0.24375 0.17734375\n",
      "4 0.2921875 0.54140625 0.1578125 0.28984375\n",
      "Label data for C:\\ckt\\circuits.v1i.yolov8v2\\train\\images\\Screenshot-2024-02-11-001248_png.rf.be935acdf62afbe1f2f9aa24279884b6.jpg: 9 0.5421875 0.18359375 0.2296875 0.284375\n",
      "14 0.34140625 0.53515625 0.24375 0.178125\n",
      "4 0.7078125 0.54140625 0.1578125 0.290625\n",
      "Label data for C:\\ckt\\circuits.v1i.yolov8v2\\train\\images\\Screenshot-2024-02-11-001301_png.rf.4fa06f2a5f9cbcf8783c13123c2a6772.jpg: 14 0.48203125 0.31953125 0.17421875 0.18359375\n",
      "9 0.4265625 0.62890625 0.2546875 0.28671875\n",
      "9 0.734375 0.63203125 0.215625 0.32265625\n",
      "Label data for C:\\ckt\\circuits.v1i.yolov8v2\\train\\images\\Screenshot-2024-02-11-001301_png.rf.e7c016187599469c06f75e3e87cfb639.jpg: 14 0.31953125 0.51796875 0.184375 0.175\n",
      "9 0.62890625 0.5734375 0.2875 0.2546875\n",
      "9 0.63203125 0.265625 0.321875 0.215625\n",
      "Label data for C:\\ckt\\circuits.v1i.yolov8v2\\train\\images\\Screenshot-2024-02-11-001317_png.rf.41c2a69e2198eaef14af295627183836.jpg: 9 0.55234375 0.7609375 0.24140625 0.22890625\n",
      "3 0.56171875 0.26796875 0.2671875 0.2640625\n",
      "15 0.28359375 0.525 0.27734375 0.24921875\n",
      "Label data for C:\\ckt\\circuits.v1i.yolov8v2\\train\\images\\Screenshot-2024-02-11-001317_png.rf.f89d73612834d0e8b481fb337d52b704.jpg: 9 0.44765625 0.7609375 0.240625 0.228125\n",
      "3 0.43828125 0.26796875 0.2671875 0.2640625\n",
      "15 0.71640625 0.525 0.278125 0.25\n",
      "Label data for C:\\ckt\\circuits.v1i.yolov8v2\\train\\images\\Screenshot-2024-02-11-001325_png.rf.16946fbe77ff8369489f6dabb23818a6.jpg: 3 0.2703125 0.559375 0.23125 0.2609375\n",
      "9 0.43828125 0.8203125 0.1671875 0.2203125\n",
      "14 0.75234375 0.6609375 0.1 0.16875\n",
      "Label data for C:\\ckt\\circuits.v1i.yolov8v2\\train\\images\\Screenshot-2024-02-11-001325_png.rf.2fa1923417571d2fdecd95b261f3123e.jpg: 3 0.2703125 0.440625 0.23125 0.2609375\n",
      "9 0.43828125 0.1796875 0.16640625 0.2203125\n",
      "14 0.75234375 0.3390625 0.1 0.16796875\n",
      "Label data for C:\\ckt\\circuits.v1i.yolov8v2\\train\\images\\Screenshot-2024-02-11-001334_png.rf.14b3a1b52af1b51b6b6695da003256ff.jpg: 4 0.3796875 0.21640625 0.1359375 0.30703125\n",
      "9 0.59453125 0.24375 0.1421875 0.3046875\n",
      "15 0.478125 0.80390625 0.25 0.321875\n",
      "Label data for C:\\ckt\\circuits.v1i.yolov8v2\\train\\images\\Screenshot-2024-02-11-001334_png.rf.1de88ace9b37857b875fc16bebef75b6.jpg: 4 0.21640625 0.6203125 0.30625 0.1359375\n",
      "9 0.24375 0.40546875 0.3046875 0.1421875\n",
      "15 0.80390625 0.521875 0.321875 0.25\n",
      "Label data for C:\\ckt\\circuits.v1i.yolov8v2\\train\\images\\Screenshot-2024-02-11-001402_png.rf.368b98b29b93571d016e6d1316cdb4e9.jpg: 9 0.49296875 0.2421875 0.25625 0.315625\n",
      "14 0.85703125 0.48515625 0.15 0.23125\n",
      "14 0.24765625 0.53046875 0.140625 0.24375\n",
      "Label data for C:\\ckt\\circuits.v1i.yolov8v2\\train\\images\\Screenshot-2024-02-11-001402_png.rf.56f17c3ea74b5285e6ab541364e0d6ab.jpg: 9 0.50703125 0.2421875 0.25703125 0.31484375\n",
      "14 0.14296875 0.48515625 0.14921875 0.23046875\n",
      "14 0.75234375 0.53046875 0.13984375 0.24453125\n",
      "Label data for C:\\ckt\\circuits.v1i.yolov8v2\\train\\images\\Screenshot-2024-02-11-001411_png.rf.9ee0e295c003235b73915ef32f2b09d6.jpg: 4 0.45625 0.18828125 0.1609375 0.2421875\n",
      "3 0.48671875 0.53203125 0.28515625 0.28828125\n",
      "15 0.49296875 0.85078125 0.29140625 0.25625\n",
      "Label data for C:\\ckt\\circuits.v1i.yolov8v2\\train\\images\\Screenshot-2024-02-11-001411_png.rf.ccb917b86120565d48b4a434e2f5a385.jpg: 4 0.18828125 0.45625 0.2421875 0.1609375\n",
      "3 0.53203125 0.48671875 0.2875 0.284375\n",
      "15 0.85078125 0.49296875 0.25625 0.290625\n",
      "Label data for C:\\ckt\\circuits.v1i.yolov8v2\\train\\images\\Screenshot-2024-02-11-001428_png.rf.04639408e91ff585eaed558d745d4694.jpg: 8 0.49296875 0.1890625 0.3453125 0.28125\n",
      "3 0.50703125 0.74296875 0.2625 0.2671875\n",
      "9 0.62890625 0.49609375 0.1671875 0.215625\n",
      "Label data for C:\\ckt\\circuits.v1i.yolov8v2\\train\\images\\Screenshot-2024-02-11-001428_png.rf.fd1ebd5c78d1cce467ac7b212d2c898d.jpg: 8 0.50703125 0.8109375 0.3453125 0.28203125\n",
      "3 0.49296875 0.25703125 0.26171875 0.2671875\n",
      "9 0.37109375 0.50390625 0.1671875 0.21484375\n",
      "Label data for C:\\ckt\\circuits.v1i.yolov8v2\\train\\images\\Screenshot-2024-02-22-182735_png.rf.238d4703cbacd8d9a2266f29a527c275.jpg: 4 0.52890625 0.2140625 0.13984375 0.33515625\n",
      "13 0.18984375 0.521875 0.259375 0.42578125\n",
      "Label data for C:\\ckt\\circuits.v1i.yolov8v2\\train\\images\\Screenshot-2024-02-22-182735_png.rf.d40b495fc8f2fbb2c3fa969f35725853.jpg: 4 0.52890625 0.7859375 0.140625 0.334375\n",
      "13 0.18984375 0.478125 0.259375 0.4265625\n",
      "Label data for C:\\ckt\\circuits.v1i.yolov8v2\\train\\images\\Screenshot-2024-02-22-182905_png.rf.1f09f6b1787a2e58bfe89c12a2d2b177.jpg: 6 0.15625 0.46640625 0.253125 0.17734375\n",
      "1 0.575 0.24140625 0.265625 0.38046875\n",
      "14 0.8859375 0.5453125 0.121875 0.271875\n",
      "Label data for C:\\ckt\\circuits.v1i.yolov8v2\\train\\images\\Screenshot-2024-02-22-182905_png.rf.c0e9b154b1e23b842f61fd2e0b4dbc84.jpg: 6 0.53359375 0.15625 0.178125 0.253125\n",
      "1 0.75859375 0.575 0.38125 0.265625\n",
      "14 0.4546875 0.8859375 0.271875 0.121875\n",
      "Label data for C:\\ckt\\circuits.v1i.yolov8v2\\train\\images\\Screenshot-2024-02-22-182948_png.rf.4d9cc364c6c445c999c7889125377437.jpg: 14 0.1890625 0.4734375 0.171875 0.1921875\n",
      "6 0.44609375 0.78984375 0.171875 0.2578125\n",
      "7 0.56171875 0.21796875 0.396875 0.28125\n",
      "Label data for C:\\ckt\\circuits.v1i.yolov8v2\\train\\images\\Screenshot-2024-02-22-182948_png.rf.f19fd9f8b5cdc478999b22fed8563695.jpg: 14 0.4734375 0.1890625 0.1921875 0.17109375\n",
      "6 0.78984375 0.44609375 0.2578125 0.17109375\n",
      "7 0.21796875 0.56171875 0.28203125 0.39609375\n",
      "Label data for C:\\ckt\\circuits.v1i.yolov8v2\\train\\images\\Screenshot-2024-02-22-183007_png.rf.64cb0e6791e439bc07194fabec7c504b.jpg: 14 0.5125 0.27734375 0.1671875 0.16875\n",
      "4 0.7484375 0.4953125 0.1671875 0.146875\n",
      "13 0.23984375 0.54140625 0.2921875 0.3359375\n",
      "Label data for C:\\ckt\\circuits.v1i.yolov8v2\\train\\images\\Screenshot-2024-02-22-183007_png.rf.7f8364021b0227d138513eaa774999d3.jpg: 14 0.5125 0.27734375 0.1671875 0.16953125\n",
      "4 0.7484375 0.4953125 0.1671875 0.146875\n",
      "13 0.23984375 0.54140625 0.2921875 0.3359375\n",
      "Label data for C:\\ckt\\circuits.v1i.yolov8v2\\train\\images\\Screenshot-2024-02-22-183021_png.rf.4e00f09da015b9b223d0b7a470455b30.jpg: 6 0.42109375 0.27265625 0.1015625 0.32890625\n",
      "6 0.459375 0.65859375 0.0890625 0.31953125\n",
      "6 0.7421875 0.44296875 0.2234375 0.15859375\n",
      "Label data for C:\\ckt\\circuits.v1i.yolov8v2\\train\\images\\Screenshot-2024-02-22-183021_png.rf.b8eb930a9e1dd2442f85e79423f4f411.jpg: 6 0.57890625 0.27265625 0.1015625 0.328125\n",
      "6 0.540625 0.65859375 0.0890625 0.31875\n",
      "6 0.2578125 0.44296875 0.2234375 0.159375\n",
      "Label data for C:\\ckt\\circuits.v1i.yolov8v2\\train\\images\\Screenshot-2024-02-22-183047_png.rf.7b94b6fe9cf07340aaeb0ced10a004b2.jpg: 14 0.87734375 0.671875 0.1328125 0.203125\n",
      "14 0.21015625 0.51171875 0.1125 0.2234375\n",
      "1 0.609375 0.45859375 0.278125 0.334375\n",
      "Label data for C:\\ckt\\circuits.v1i.yolov8v2\\train\\images\\Screenshot-2024-02-22-183047_png.rf.d7cc2433f2603273960e22ccf34a28ac.jpg: 14 0.12265625 0.671875 0.1328125 0.203125\n",
      "14 0.78984375 0.51171875 0.1125 0.2234375\n",
      "1 0.390625 0.45859375 0.278125 0.33515625\n",
      "Label data for C:\\ckt\\circuits.v1i.yolov8v2\\train\\images\\Screenshot-2024-02-22-183101_png.rf.1f149e49daaeaac0fbe9e6d4c87e6f89.jpg: 13 0.75 0.47734375 0.21171875 0.2515625\n",
      "14 0.515625 0.2703125 0.1359375 0.10546875\n",
      "6 0.23828125 0.40390625 0.2359375 0.14609375\n",
      "Label data for C:\\ckt\\circuits.v1i.yolov8v2\\train\\images\\Screenshot-2024-02-22-183101_png.rf.f9d07a9484a4ab1f0604ef5ef2b83e5c.jpg: 13 0.52265625 0.75 0.2515625 0.2125\n",
      "14 0.7296875 0.515625 0.10625 0.1359375\n",
      "6 0.59609375 0.23828125 0.146875 0.2359375\n",
      "Label data for C:\\ckt\\circuits.v1i.yolov8v2\\train\\images\\Screenshot-2024-02-22-183207_png.rf.dae15268acab8195e5d1ef7a391df954.jpg: 6 0.70546875 0.5703125 0.2640625 0.128125\n",
      "14 0.25625 0.56171875 0.109375 0.2921875\n",
      "2 0.47109375 0.30390625 0.19375 0.3625\n",
      "Label data for C:\\ckt\\circuits.v1i.yolov8v2\\train\\images\\Screenshot-2024-02-22-183207_png.rf.ff463916344c9c773729726ab6f4a5f0.jpg: 6 0.29453125 0.5703125 0.2640625 0.12890625\n",
      "14 0.74375 0.56171875 0.11015625 0.2921875\n",
      "2 0.52890625 0.30390625 0.19375 0.3625\n",
      "Label data for C:\\ckt\\circuits.v1i.yolov8v2\\train\\images\\Screenshot-2024-02-22-183218_png.rf.a672283b06337c67dd7ef76f53ceae2e.jpg: 2 0.4828125 0.77265625 0.3484375 0.225\n",
      "14 0.478125 0.5109375 0.240625 0.14375\n",
      "6 0.48984375 0.21640625 0.178125 0.315625\n",
      "Label data for C:\\ckt\\circuits.v1i.yolov8v2\\train\\images\\Screenshot-2024-02-22-183218_png.rf.ca6ba5baded0f3695eec9231ca9a2b74.jpg: 2 0.22734375 0.5171875 0.225 0.3484375\n",
      "14 0.4890625 0.521875 0.14375 0.24140625\n",
      "6 0.78359375 0.51015625 0.31484375 0.17734375\n",
      "Label data for C:\\ckt\\circuits.v1i.yolov8v2\\train\\images\\Screenshot-2024-02-22-183228_png.rf.033c77c3871b051b2682bc058ac0eb4d.jpg: 6 0.7890625 0.54609375 0.24765625 0.15234375\n",
      "2 0.53828125 0.25234375 0.22421875 0.32578125\n",
      "7 0.20078125 0.54296875 0.28359375 0.3828125\n",
      "Label data for C:\\ckt\\circuits.v1i.yolov8v2\\train\\images\\Screenshot-2024-02-22-183228_png.rf.6ebb757e908ab281cd66005ff08a2d88.jpg: 6 0.2109375 0.54609375 0.246875 0.153125\n",
      "2 0.46171875 0.25234375 0.225 0.325\n",
      "7 0.79921875 0.54296875 0.284375 0.3828125\n",
      "Label data for C:\\ckt\\circuits.v1i.yolov8v2\\train\\images\\Screenshot-2024-02-22-183259_png.rf.500c83c095665331d9326482ee818b2e.jpg: 2 0.50625 0.71328125 0.375 0.215625\n",
      "14 0.18359375 0.515625 0.1875 0.128125\n",
      "6 0.49453125 0.196875 0.171875 0.20625\n",
      "Label data for C:\\ckt\\circuits.v1i.yolov8v2\\train\\images\\Screenshot-2024-02-22-183259_png.rf.59fab7e251daf0aff84b5d47fef1137f.jpg: 2 0.28671875 0.49375 0.21484375 0.37421875\n",
      "14 0.484375 0.81640625 0.128125 0.1875\n",
      "6 0.803125 0.50546875 0.20546875 0.17265625\n",
      "Label data for C:\\ckt\\circuits.v1i.yolov8v2\\train\\images\\Screenshot-2024-02-22-183309_png.rf.769a1cb1647828ff2e3269ed060c8aa9.jpg: 6 0.19140625 0.4171875 0.184375 0.1296875\n",
      "2 0.47578125 0.509375 0.24765625 0.32578125\n",
      "7 0.77578125 0.5109375 0.26640625 0.3921875\n",
      "Label data for C:\\ckt\\circuits.v1i.yolov8v2\\train\\images\\Screenshot-2024-02-22-183309_png.rf.a591e7c15bf68a8b2f81ff256d086a34.jpg: 6 0.19140625 0.5828125 0.184375 0.1296875\n",
      "2 0.47578125 0.490625 0.246875 0.325\n",
      "7 0.77578125 0.4890625 0.265625 0.3921875\n",
      "Label data for C:\\ckt\\circuits.v1i.yolov8v2\\train\\images\\Screenshot-2024-02-22-183325_png.rf.67cef8d1f14bec54649f43cb8d1bf444.jpg: 6 0.478125 0.2140625 0.10859375 0.23828125\n",
      "6 0.4390625 0.4765625 0.13671875 0.20234375\n",
      "7 0.57265625 0.74140625 0.3984375 0.24375\n",
      "Label data for C:\\ckt\\circuits.v1i.yolov8v2\\train\\images\\Screenshot-2024-02-22-183325_png.rf.7000e0abbe6a674ca74c8b71c600e5fe.jpg: 6 0.521875 0.2140625 0.109375 0.2375\n",
      "6 0.5609375 0.4765625 0.1375 0.203125\n",
      "7 0.42734375 0.74140625 0.3984375 0.24375\n",
      "Label data for C:\\ckt\\circuits.v1i.yolov8v2\\train\\images\\Screenshot-2024-02-22-183333_png.rf.6ba5b6c7fac272ae3ccc156450133935.jpg: 14 0.6046875 0.221875 0.103125 0.165625\n",
      "6 0.61328125 0.70234375 0.1078125 0.31953125\n",
      "1 0.36484375 0.46328125 0.23515625 0.328125\n",
      "Label data for C:\\ckt\\circuits.v1i.yolov8v2\\train\\images\\Screenshot-2024-02-22-183333_png.rf.e7823503e35dfd4924629979eabde93d.jpg: 14 0.6046875 0.778125 0.103125 0.165625\n",
      "6 0.61328125 0.29765625 0.1078125 0.31875\n",
      "1 0.36484375 0.53671875 0.234375 0.328125\n",
      "Label data for C:\\ckt\\circuits.v1i.yolov8v2\\train\\images\\Screenshot-2024-02-22-183343_png.rf.45ab3cf489498470ce78c9e9db16497d.jpg: 13 0.17109375 0.4546875 0.2390625 0.46484375\n",
      "2 0.45 0.53828125 0.23125 0.38515625\n",
      "6 0.75390625 0.5015625 0.24921875 0.15078125\n",
      "Label data for C:\\ckt\\circuits.v1i.yolov8v2\\train\\images\\Screenshot-2024-02-22-183343_png.rf.948a02becefcb1fd2de04d2cc6dbfa15.jpg: 13 0.17109375 0.5453125 0.2390625 0.465625\n",
      "2 0.45 0.46171875 0.23125 0.384375\n",
      "6 0.75390625 0.4984375 0.25 0.1515625\n",
      "Label data for C:\\ckt\\circuits.v1i.yolov8v2\\train\\images\\Screenshot-2024-02-22-183354_png.rf.8846069516cf688fc539bda570634186.jpg: 7 0.20078125 0.4796875 0.26015625 0.40625\n",
      "7 0.56015625 0.48828125 0.290625 0.371875\n",
      "6 0.8015625 0.50703125 0.1703125 0.13828125\n",
      "Label data for C:\\ckt\\circuits.v1i.yolov8v2\\train\\images\\Screenshot-2024-02-22-183354_png.rf.b9ae08b7d476cf5b87a6b325073f25a1.jpg: 7 0.4796875 0.79921875 0.40625 0.259375\n",
      "7 0.48828125 0.43984375 0.371875 0.290625\n",
      "6 0.50703125 0.1984375 0.1375 0.1703125\n",
      "Label data for C:\\ckt\\circuits.v1i.yolov8v2\\train\\images\\Screenshot-2024-02-22-183411_png.rf.2de730ba83cf3d94be4dd19327f79618.jpg: 13 0.41484375 0.6828125 0.334375 0.2125\n",
      "4 0.21875 0.41796875 0.203125 0.146875\n",
      "6 0.67578125 0.38046875 0.2625 0.184375\n",
      "Label data for C:\\ckt\\circuits.v1i.yolov8v2\\train\\images\\Screenshot-2024-02-22-183411_png.rf.faac908826fafb71f7ccde6a1de5c546.jpg: 13 0.3171875 0.41484375 0.21171875 0.33515625\n",
      "4 0.58203125 0.21875 0.14765625 0.20390625\n",
      "6 0.61953125 0.67578125 0.18359375 0.2625\n",
      "Label data for C:\\ckt\\circuits.v1i.yolov8v2\\train\\images\\Screenshot-2024-02-22-183442_png.rf.08706703cd8cf2f90c2175331c22be07.jpg: 2 0.7359375 0.39453125 0.21875 0.2765625\n",
      "6 0.49921875 0.38125 0.203125 0.13125\n",
      "7 0.25859375 0.50703125 0.25 0.225\n",
      "Label data for C:\\ckt\\circuits.v1i.yolov8v2\\train\\images\\Screenshot-2024-02-22-183442_png.rf.915c721de77a01acec82ce5f543d1843.jpg: 2 0.39453125 0.2640625 0.2765625 0.21796875\n",
      "6 0.38125 0.50078125 0.13046875 0.20390625\n",
      "7 0.50703125 0.74140625 0.22421875 0.24921875\n",
      "Label data for C:\\ckt\\circuits.v1i.yolov8v2\\train\\images\\Screenshot-2024-02-22-183505_png.rf.50f388de544a6101b1ab393750187e6f.jpg: 2 0.22578125 0.51796875 0.2734375 0.2484375\n",
      "6 0.4609375 0.215625 0.121875 0.215625\n",
      "14 0.55 0.70625 0.19609375 0.1578125\n",
      "Label data for C:\\ckt\\circuits.v1i.yolov8v2\\train\\images\\Screenshot-2024-02-22-183505_png.rf.614e75a713ec0f3db05c64f4fe4506f9.jpg: 2 0.51796875 0.22578125 0.2484375 0.2734375\n",
      "6 0.215625 0.4609375 0.215625 0.121875\n",
      "14 0.70625 0.55 0.1578125 0.196875\n",
      "Label data for C:\\ckt\\circuits.v1i.yolov8v2\\train\\images\\Screenshot-2024-02-22-183519_png.rf.0820d69302ffab573b7ef65b870f1854.jpg: 1 0.40546875 0.61953125 0.2265625 0.2875\n",
      "4 0.75625 0.59375 0.2 0.15625\n",
      "Label data for C:\\ckt\\circuits.v1i.yolov8v2\\train\\images\\Screenshot-2024-02-22-183519_png.rf.50c8062d06a9f18641f5f643fcbdf1bc.jpg: 1 0.40546875 0.38046875 0.2265625 0.28828125\n",
      "4 0.75625 0.40625 0.2 0.15546875\n",
      "Label data for C:\\ckt\\circuits.v1i.yolov8v2\\train\\images\\Screenshot-2024-02-22-183527_png.rf.313dee25c478bb8d9129a43aa4251b56.jpg: 6 0.48203125 0.43125 0.21328125 0.1296875\n",
      "2 0.73046875 0.48203125 0.19140625 0.2828125\n",
      "7 0.2359375 0.48203125 0.1875 0.27109375\n",
      "Label data for C:\\ckt\\circuits.v1i.yolov8v2\\train\\images\\Screenshot-2024-02-22-183527_png.rf.7f1150e9a30f51794c6fe485199bef2e.jpg: 6 0.56875 0.48203125 0.1296875 0.2125\n",
      "2 0.51796875 0.73046875 0.2828125 0.190625\n",
      "7 0.51796875 0.2359375 0.271875 0.1875\n"
     ]
    }
   ],
   "source": [
    "import os\n",
    "\n",
    "# Directory containing the images\n",
    "image_dir = r\"C:\\ckt\\circuits.v1i.yolov8v2\\train\\images\"\n",
    "\n",
    "# Get a list of all image files in the directory\n",
    "all_images = [os.path.join(image_dir, img) for img in os.listdir(image_dir) if img.endswith('.jpg') or img.endswith('.png')]\n",
    "\n",
    "# Directory containing the label files\n",
    "label_dir = r\"C:\\ckt\\circuits.v1i.yolov8v2\\train\\labels\"\n",
    "\n",
    "# Iterate through images and labels\n",
    "for image_path in all_images:\n",
    "    # Extract the image name without extension\n",
    "    image_name = os.path.splitext(os.path.basename(image_path))[0]\n",
    "    \n",
    "    # Construct the path to the corresponding label file\n",
    "    label_path = os.path.join(label_dir, f\"{image_name}.txt\")\n",
    "    \n",
    "    # Check if the label file exists\n",
    "    if os.path.exists(label_path):\n",
    "        # Open the label file and read the contents\n",
    "        with open(label_path, 'r') as f:\n",
    "            label_data = f.read()\n",
    "        \n",
    "        # Process the label data as needed\n",
    "        print(f\"Label data for {image_path}: {label_data}\")\n",
    "    else:\n",
    "        print(f\"No label file found for {image_path}\")\n"
   ]
  },
  {
   "cell_type": "code",
   "execution_count": 7,
   "metadata": {},
   "outputs": [
    {
     "name": "stdout",
     "output_type": "stream",
     "text": [
      "Label data for Screenshot-2024-02-11-000910_png.rf.763ec77b5cbba752c4ab3b4965e75a4b.jpg: ['3', '0.49921875', '0.22265625', '0.346875', '0.321875', '9', '0.51171875', '0.515625', '0.2671875', '0.246875', '4', '0.34921875', '0.78125', '0.125', '0.240625']\n",
      "Label data for Screenshot-2024-02-10-232427_png.rf.e99cdf597e16cda8a53533fdf33c774c.jpg: ['12', '0.75546875', '0.53359375', '0.275', '0.35', '14', '0.43515625', '0.509375', '0.11875', '0.20625', '14', '0.228125', '0.51015625', '0.1125', '0.1875']\n",
      "Label data for Screenshot-2024-02-10-233436_png.rf.bc17cdc4ed4ecd82f9b0e7b694468d3f.jpg: ['7', '0.50234375', '0.26796875', '0.3234375', '0.32109375', '14', '0.13125', '0.565625', '0.09296875', '0.21015625', '14', '0.78203125', '0.49296875', '0.10234375', '0.23359375']\n",
      "Label data for Screenshot-2024-02-10-233359_png.rf.ae24852ef9b3c0031f585749427757f1.jpg: ['14', '0.8375', '0.465625', '0.153125', '0.146875', '14', '0.53828125', '0.44921875', '0.15625', '0.153125', '14', '0.215625', '0.48203125', '0.2125', '0.175']\n"
     ]
    },
    {
     "data": {
      "image/png": "[encoded data removed]",
      "text/plain": [
       "<Figure size 1500x1200 with 4 Axes>"
      ]
     },
     "metadata": {},
     "output_type": "display_data"
    }
   ],
   "source": [
    "import os\n",
    "import cv2\n",
    "import random\n",
    "import matplotlib.pyplot as plt\n",
    "\n",
    "def plot(image_paths, label_dir, num_samples):\n",
    "    # Load the list of image paths\n",
    "    all_images = os.listdir(image_paths)\n",
    "    \n",
    "    # Shuffle the list of image paths\n",
    "    random.shuffle(all_images)\n",
    "    \n",
    "    # Visualize a few training images\n",
    "    plt.figure(figsize=(15, 12))\n",
    "    for i in range(num_samples):\n",
    "        j = random.randint(0, len(all_images)-1)\n",
    "        image_name = all_images[j]\n",
    "        image_path = os.path.join(image_paths, image_name)\n",
    "        \n",
    "        # Read and display the image\n",
    "        image = cv2.imread(image_path)\n",
    "        plt.subplot(1, num_samples, i+1)\n",
    "        plt.imshow(cv2.cvtColor(image, cv2.COLOR_BGR2RGB))\n",
    "        plt.title(f\"Image {i+1}\")\n",
    "        \n",
    "        # Load the corresponding label data from the .txt file\n",
    "        label_file_path = os.path.join(label_dir, image_name[:-4] + '.txt')\n",
    "        with open(label_file_path, 'r') as f:\n",
    "            label_data = f.read().strip().split()  # Read label data from the file\n",
    "            print(f\"Label data for {image_name}: {label_data}\")\n",
    "            # Process the label data as needed\n",
    "        \n",
    "    plt.show()\n",
    "\n",
    "# Example usage\n",
    "plot(\n",
    "    image_paths=r\"C:\\ckt\\circuits.v1i.yolov8v2\\train\\images\", \n",
    "    label_dir=r\"C:\\ckt\\circuits.v1i.yolov8v2\\train\\labels\",\n",
    "    num_samples=4,\n",
    ")\n"
   ]
  },
  {
   "cell_type": "code",
   "execution_count": 8,
   "metadata": {},
   "outputs": [
    {
     "name": "stdout",
     "output_type": "stream",
     "text": [
      "Downloading https://github.com/ultralytics/assets/releases/download/v8.1.0/yolov8x.pt to 'yolov8x.pt'...\n"
     ]
    },
    {
     "name": "stderr",
     "output_type": "stream",
     "text": [
      "100%|██████████| 131M/131M [00:11<00:00, 11.7MB/s] \n"
     ]
    }
   ],
   "source": [
    "model = YOLO(\"yolov8x.pt\")"
   ]
  },
  {
   "cell_type": "code",
   "execution_count": 9,
   "metadata": {},
   "outputs": [],
   "source": [
    "# import os\n",
    "# import yaml\n",
    "\n",
    "# def folder_to_yaml(folder_path):\n",
    "#     # Initialize an empty dictionary to store folder contents\n",
    "#     folder_contents = {'folder': folder_path, 'contents': []}\n",
    "\n",
    "#     # Iterate through the contents of the folder\n",
    "#     for item in os.listdir(folder_path):\n",
    "#         item_path = os.path.join(folder_path, item)\n",
    "#         item_info = {'name': item}\n",
    "\n",
    "#         # Check if item is a file\n",
    "#         if os.path.isfile(item_path):\n",
    "#             item_info['type'] = 'file'\n",
    "#             item_info['size'] = os.path.getsize(item_path)\n",
    "#             item_info['modified'] = os.path.getmtime(item_path)\n",
    "\n",
    "#         # Check if item is a subfolder\n",
    "#         elif os.path.isdir(item_path):\n",
    "#             item_info['type'] = 'folder'\n",
    "#             # Recursively call the function for subfolders\n",
    "#             item_info['contents'] = folder_to_yaml(item_path)['contents']\n",
    "\n",
    "#         folder_contents['contents'].append(item_info)\n",
    "\n",
    "#     return folder_contents\n",
    "\n",
    "# # Define the path to the folder you want to convert to YAML\n",
    "# folder_path = \"E:\\\\Research\\\\circuit.v1i.yolov8\\\\train\\\\images\"\n",
    "\n",
    "# # Convert the folder to YAML\n",
    "# yaml_data = folder_to_yaml(folder_path)\n",
    "\n",
    "# # Write the YAML data to a file\n",
    "# output_file = 'E:\\\\Research\\\\circuitdataset\\\\componentdataset.yaml'\n",
    "# with open(output_file, 'w') as yaml_file:\n",
    "#     yaml.dump(yaml_data, yaml_file)\n",
    "\n",
    "# print(\"Folder contents converted and saved to YAML file:\", output_file)\n"
   ]
  },
  {
   "cell_type": "code",
   "execution_count": 9,
   "metadata": {},
   "outputs": [
    {
     "name": "stdout",
     "output_type": "stream",
     "text": [
      "Ultralytics YOLOv8.1.18 🚀 Python-3.11.6 torch-2.2.1+cpu CPU (AMD Ryzen 9 7950X 16-Core Processor)\n",
      "\u001b[34m\u001b[1mengine\\trainer: \u001b[0mtask=detect, mode=train, model=yolov8x.pt, data=C:\\ckt\\circuits.v1i.yolov8v2\\data.yaml, epochs=20, time=None, patience=100, batch=16, imgsz=640, save=True, save_period=-1, cache=False, device=None, workers=8, project=None, name=train, exist_ok=False, pretrained=True, optimizer=auto, verbose=True, seed=0, deterministic=True, single_cls=False, rect=False, cos_lr=False, close_mosaic=10, resume=False, amp=True, fraction=1.0, profile=False, freeze=None, multi_scale=False, overlap_mask=True, mask_ratio=4, dropout=0.0, val=True, split=val, save_json=False, save_hybrid=False, conf=None, iou=0.7, max_det=300, half=False, dnn=False, plots=True, source=None, vid_stride=1, stream_buffer=False, visualize=False, augment=False, agnostic_nms=False, classes=None, retina_masks=False, embed=None, show=False, save_frames=False, save_txt=False, save_conf=False, save_crop=False, show_labels=True, show_conf=True, show_boxes=True, line_width=None, format=torchscript, keras=False, optimize=False, int8=False, dynamic=False, simplify=False, opset=None, workspace=4, nms=False, lr0=0.01, lrf=0.01, momentum=0.937, weight_decay=0.0005, warmup_epochs=3.0, warmup_momentum=0.8, warmup_bias_lr=0.1, box=7.5, cls=0.5, dfl=1.5, pose=12.0, kobj=1.0, label_smoothing=0.0, nbs=64, hsv_h=0.015, hsv_s=0.7, hsv_v=0.4, degrees=0.0, translate=0.1, scale=0.5, shear=0.0, perspective=0.0, flipud=0.0, fliplr=0.5, mosaic=1.0, mixup=0.0, copy_paste=0.0, auto_augment=randaugment, erasing=0.4, crop_fraction=1.0, cfg=None, tracker=botsort.yaml, save_dir=runs\\detect\\train\n",
      "Downloading https://ultralytics.com/assets/Arial.ttf to 'C:\\Users\\Amrita\\AppData\\Roaming\\Ultralytics\\Arial.ttf'...\n"
     ]
    },
    {
     "name": "stderr",
     "output_type": "stream",
     "text": [
      "100%|██████████| 755k/755k [00:00<00:00, 9.32MB/s]"
     ]
    },
    {
     "name": "stdout",
     "output_type": "stream",
     "text": [
      "Overriding model.yaml nc=80 with nc=16\n",
      "\n",
      "                   from  n    params  module                                       arguments                     \n",
      "  0                  -1  1      2320  ultralytics.nn.modules.conv.Conv             [3, 80, 3, 2]                 \n",
      "  1                  -1  1    115520  ultralytics.nn.modules.conv.Conv             [80, 160, 3, 2]               \n",
      "  2                  -1  3    436800  ultralytics.nn.modules.block.C2f             [160, 160, 3, True]           \n",
      "  3                  -1  1    461440  ultralytics.nn.modules.conv.Conv             [160, 320, 3, 2]              \n",
      "  4                  -1  6   3281920  ultralytics.nn.modules.block.C2f             [320, 320, 6, True]           \n",
      "  5                  -1  1   1844480  ultralytics.nn.modules.conv.Conv             [320, 640, 3, 2]              \n"
     ]
    },
    {
     "name": "stderr",
     "output_type": "stream",
     "text": [
      "\n"
     ]
    },
    {
     "name": "stdout",
     "output_type": "stream",
     "text": [
      "  6                  -1  6  13117440  ultralytics.nn.modules.block.C2f             [640, 640, 6, True]           \n",
      "  7                  -1  1   3687680  ultralytics.nn.modules.conv.Conv             [640, 640, 3, 2]              \n",
      "  8                  -1  3   6969600  ultralytics.nn.modules.block.C2f             [640, 640, 3, True]           \n",
      "  9                  -1  1   1025920  ultralytics.nn.modules.block.SPPF            [640, 640, 5]                 \n",
      " 10                  -1  1         0  torch.nn.modules.upsampling.Upsample         [None, 2, 'nearest']          \n",
      " 11             [-1, 6]  1         0  ultralytics.nn.modules.conv.Concat           [1]                           \n",
      " 12                  -1  3   7379200  ultralytics.nn.modules.block.C2f             [1280, 640, 3]                \n",
      " 13                  -1  1         0  torch.nn.modules.upsampling.Upsample         [None, 2, 'nearest']          \n",
      " 14             [-1, 4]  1         0  ultralytics.nn.modules.conv.Concat           [1]                           \n",
      " 15                  -1  3   1948800  ultralytics.nn.modules.block.C2f             [960, 320, 3]                 \n",
      " 16                  -1  1    922240  ultralytics.nn.modules.conv.Conv             [320, 320, 3, 2]              \n",
      " 17            [-1, 12]  1         0  ultralytics.nn.modules.conv.Concat           [1]                           \n",
      " 18                  -1  3   7174400  ultralytics.nn.modules.block.C2f             [960, 640, 3]                 \n",
      " 19                  -1  1   3687680  ultralytics.nn.modules.conv.Conv             [640, 640, 3, 2]              \n",
      " 20             [-1, 9]  1         0  ultralytics.nn.modules.conv.Concat           [1]                           \n",
      " 21                  -1  3   7379200  ultralytics.nn.modules.block.C2f             [1280, 640, 3]                \n",
      " 22        [15, 18, 21]  1   8733376  ultralytics.nn.modules.head.Detect           [16, [320, 640, 640]]         \n",
      "Model summary: 365 layers, 68168016 parameters, 68168000 gradients, 258.2 GFLOPs\n",
      "\n",
      "Transferred 589/595 items from pretrained weights\n",
      "Freezing layer 'model.22.dfl.conv.weight'\n"
     ]
    },
    {
     "name": "stderr",
     "output_type": "stream",
     "text": [
      "\u001b[34m\u001b[1mtrain: \u001b[0mScanning C:\\ckt\\train\\labels... 324 images, 0 backgrounds, 0 corrupt: 100%|██████████| 324/324 [00:00<00:00, 1221.45it/s]\n"
     ]
    },
    {
     "name": "stdout",
     "output_type": "stream",
     "text": [
      "\u001b[34m\u001b[1mtrain: \u001b[0mNew cache created: C:\\ckt\\train\\labels.cache\n"
     ]
    },
    {
     "name": "stderr",
     "output_type": "stream",
     "text": [
      "\u001b[34m\u001b[1mval: \u001b[0mScanning C:\\ckt\\valid\\labels... 46 images, 0 backgrounds, 0 corrupt: 100%|██████████| 46/46 [00:00<00:00, 1263.82it/s]"
     ]
    },
    {
     "name": "stdout",
     "output_type": "stream",
     "text": [
      "\u001b[34m\u001b[1mval: \u001b[0mNew cache created: C:\\ckt\\valid\\labels.cache\n"
     ]
    },
    {
     "name": "stderr",
     "output_type": "stream",
     "text": [
      "\n"
     ]
    },
    {
     "name": "stdout",
     "output_type": "stream",
     "text": [
      "Plotting labels to runs\\detect\\train\\labels.jpg... \n",
      "\u001b[34m\u001b[1moptimizer:\u001b[0m 'optimizer=auto' found, ignoring 'lr0=0.01' and 'momentum=0.937' and determining best 'optimizer', 'lr0' and 'momentum' automatically... \n",
      "\u001b[34m\u001b[1moptimizer:\u001b[0m AdamW(lr=0.0005, momentum=0.9) with parameter groups 97 weight(decay=0.0), 104 weight(decay=0.0005), 103 bias(decay=0.0)\n",
      "Image sizes 640 train, 640 val\n",
      "Using 0 dataloader workers\n",
      "Logging results to \u001b[1mruns\\detect\\train\u001b[0m\n",
      "Starting training for 20 epochs...\n",
      "\n",
      "      Epoch    GPU_mem   box_loss   cls_loss   dfl_loss  Instances       Size\n"
     ]
    },
    {
     "name": "stderr",
     "output_type": "stream",
     "text": [
      "       1/20         0G      1.848      3.393      1.871         16        640: 100%|██████████| 21/21 [07:14<00:00, 20.67s/it]\n",
      "                 Class     Images  Instances      Box(P          R      mAP50  mAP50-95): 100%|██████████| 2/2 [00:19<00:00,  9.83s/it]"
     ]
    },
    {
     "name": "stdout",
     "output_type": "stream",
     "text": [
      "                   all         46        130      0.336       0.37      0.289      0.152\n"
     ]
    },
    {
     "name": "stderr",
     "output_type": "stream",
     "text": [
      "\n"
     ]
    },
    {
     "name": "stdout",
     "output_type": "stream",
     "text": [
      "\n",
      "      Epoch    GPU_mem   box_loss   cls_loss   dfl_loss  Instances       Size\n"
     ]
    },
    {
     "name": "stderr",
     "output_type": "stream",
     "text": [
      "       2/20         0G      1.549      1.973      1.617         20        640: 100%|██████████| 21/21 [06:39<00:00, 19.01s/it]\n",
      "                 Class     Images  Instances      Box(P          R      mAP50  mAP50-95): 100%|██████████| 2/2 [00:22<00:00, 11.22s/it]"
     ]
    },
    {
     "name": "stdout",
     "output_type": "stream",
     "text": [
      "                   all         46        130      0.661       0.56       0.56      0.316\n"
     ]
    },
    {
     "name": "stderr",
     "output_type": "stream",
     "text": [
      "\n"
     ]
    },
    {
     "name": "stdout",
     "output_type": "stream",
     "text": [
      "\n",
      "      Epoch    GPU_mem   box_loss   cls_loss   dfl_loss  Instances       Size\n"
     ]
    },
    {
     "name": "stderr",
     "output_type": "stream",
     "text": [
      "       3/20         0G      1.492      1.599      1.541         31        640: 100%|██████████| 21/21 [06:31<00:00, 18.65s/it]\n",
      "                 Class     Images  Instances      Box(P          R      mAP50  mAP50-95): 100%|██████████| 2/2 [00:19<00:00,  9.77s/it]"
     ]
    },
    {
     "name": "stdout",
     "output_type": "stream",
     "text": [
      "                   all         46        130      0.381       0.67      0.451      0.235\n"
     ]
    },
    {
     "name": "stderr",
     "output_type": "stream",
     "text": [
      "\n"
     ]
    },
    {
     "name": "stdout",
     "output_type": "stream",
     "text": [
      "\n",
      "      Epoch    GPU_mem   box_loss   cls_loss   dfl_loss  Instances       Size\n"
     ]
    },
    {
     "name": "stderr",
     "output_type": "stream",
     "text": [
      "       4/20         0G      1.523      1.503      1.548         17        640: 100%|██████████| 21/21 [06:23<00:00, 18.27s/it]\n",
      "                 Class     Images  Instances      Box(P          R      mAP50  mAP50-95): 100%|██████████| 2/2 [00:19<00:00,  9.94s/it]"
     ]
    },
    {
     "name": "stdout",
     "output_type": "stream",
     "text": [
      "                   all         46        130      0.323      0.762      0.548      0.308\n"
     ]
    },
    {
     "name": "stderr",
     "output_type": "stream",
     "text": [
      "\n"
     ]
    },
    {
     "name": "stdout",
     "output_type": "stream",
     "text": [
      "\n",
      "      Epoch    GPU_mem   box_loss   cls_loss   dfl_loss  Instances       Size\n"
     ]
    },
    {
     "name": "stderr",
     "output_type": "stream",
     "text": [
      "       5/20         0G      1.478      1.452       1.58         14        640: 100%|██████████| 21/21 [06:26<00:00, 18.38s/it]\n",
      "                 Class     Images  Instances      Box(P          R      mAP50  mAP50-95): 100%|██████████| 2/2 [00:19<00:00,  9.62s/it]"
     ]
    },
    {
     "name": "stdout",
     "output_type": "stream",
     "text": [
      "                   all         46        130      0.607      0.591      0.548      0.336\n"
     ]
    },
    {
     "name": "stderr",
     "output_type": "stream",
     "text": [
      "\n"
     ]
    },
    {
     "name": "stdout",
     "output_type": "stream",
     "text": [
      "\n",
      "      Epoch    GPU_mem   box_loss   cls_loss   dfl_loss  Instances       Size\n"
     ]
    },
    {
     "name": "stderr",
     "output_type": "stream",
     "text": [
      "       6/20         0G      1.557      1.444      1.599         16        640: 100%|██████████| 21/21 [06:23<00:00, 18.26s/it]\n",
      "                 Class     Images  Instances      Box(P          R      mAP50  mAP50-95): 100%|██████████| 2/2 [00:19<00:00,  9.68s/it]"
     ]
    },
    {
     "name": "stdout",
     "output_type": "stream",
     "text": [
      "                   all         46        130      0.559      0.687      0.603      0.338\n"
     ]
    },
    {
     "name": "stderr",
     "output_type": "stream",
     "text": [
      "\n"
     ]
    },
    {
     "name": "stdout",
     "output_type": "stream",
     "text": [
      "\n",
      "      Epoch    GPU_mem   box_loss   cls_loss   dfl_loss  Instances       Size\n"
     ]
    },
    {
     "name": "stderr",
     "output_type": "stream",
     "text": [
      "       7/20         0G      1.497      1.324      1.559         19        640: 100%|██████████| 21/21 [06:24<00:00, 18.32s/it]\n",
      "                 Class     Images  Instances      Box(P          R      mAP50  mAP50-95): 100%|██████████| 2/2 [00:18<00:00,  9.50s/it]"
     ]
    },
    {
     "name": "stdout",
     "output_type": "stream",
     "text": [
      "                   all         46        130      0.412      0.728        0.6      0.336\n"
     ]
    },
    {
     "name": "stderr",
     "output_type": "stream",
     "text": [
      "\n"
     ]
    },
    {
     "name": "stdout",
     "output_type": "stream",
     "text": [
      "\n",
      "      Epoch    GPU_mem   box_loss   cls_loss   dfl_loss  Instances       Size\n"
     ]
    },
    {
     "name": "stderr",
     "output_type": "stream",
     "text": [
      "       8/20         0G      1.509      1.308      1.584         24        640: 100%|██████████| 21/21 [06:20<00:00, 18.11s/it]\n",
      "                 Class     Images  Instances      Box(P          R      mAP50  mAP50-95): 100%|██████████| 2/2 [00:19<00:00,  9.63s/it]"
     ]
    },
    {
     "name": "stdout",
     "output_type": "stream",
     "text": [
      "                   all         46        130      0.515      0.715      0.604      0.345\n"
     ]
    },
    {
     "name": "stderr",
     "output_type": "stream",
     "text": [
      "\n"
     ]
    },
    {
     "name": "stdout",
     "output_type": "stream",
     "text": [
      "\n",
      "      Epoch    GPU_mem   box_loss   cls_loss   dfl_loss  Instances       Size\n"
     ]
    },
    {
     "name": "stderr",
     "output_type": "stream",
     "text": [
      "       9/20         0G      1.462      1.259      1.551         13        640: 100%|██████████| 21/21 [06:23<00:00, 18.24s/it]\n",
      "                 Class     Images  Instances      Box(P          R      mAP50  mAP50-95): 100%|██████████| 2/2 [00:19<00:00,  9.63s/it]"
     ]
    },
    {
     "name": "stdout",
     "output_type": "stream",
     "text": [
      "                   all         46        130      0.662      0.719      0.755      0.465\n"
     ]
    },
    {
     "name": "stderr",
     "output_type": "stream",
     "text": [
      "\n"
     ]
    },
    {
     "name": "stdout",
     "output_type": "stream",
     "text": [
      "\n",
      "      Epoch    GPU_mem   box_loss   cls_loss   dfl_loss  Instances       Size\n"
     ]
    },
    {
     "name": "stderr",
     "output_type": "stream",
     "text": [
      "      10/20         0G      1.437      1.112      1.487         24        640: 100%|██████████| 21/21 [06:16<00:00, 17.95s/it]\n",
      "                 Class     Images  Instances      Box(P          R      mAP50  mAP50-95): 100%|██████████| 2/2 [00:19<00:00,  9.63s/it]"
     ]
    },
    {
     "name": "stdout",
     "output_type": "stream",
     "text": [
      "                   all         46        130      0.603      0.663      0.718       0.45\n"
     ]
    },
    {
     "name": "stderr",
     "output_type": "stream",
     "text": [
      "\n"
     ]
    },
    {
     "name": "stdout",
     "output_type": "stream",
     "text": [
      "Closing dataloader mosaic\n",
      "\n",
      "      Epoch    GPU_mem   box_loss   cls_loss   dfl_loss  Instances       Size\n"
     ]
    },
    {
     "name": "stderr",
     "output_type": "stream",
     "text": [
      "      11/20         0G      1.365     0.8932      1.588         12        640: 100%|██████████| 21/21 [06:48<00:00, 19.43s/it]\n",
      "                 Class     Images  Instances      Box(P          R      mAP50  mAP50-95): 100%|██████████| 2/2 [00:21<00:00, 10.99s/it]"
     ]
    },
    {
     "name": "stdout",
     "output_type": "stream",
     "text": [
      "                   all         46        130      0.643      0.822      0.755       0.47\n"
     ]
    },
    {
     "name": "stderr",
     "output_type": "stream",
     "text": [
      "\n"
     ]
    },
    {
     "name": "stdout",
     "output_type": "stream",
     "text": [
      "\n",
      "      Epoch    GPU_mem   box_loss   cls_loss   dfl_loss  Instances       Size\n"
     ]
    },
    {
     "name": "stderr",
     "output_type": "stream",
     "text": [
      "      12/20         0G      1.359     0.8485        1.6         10        640: 100%|██████████| 21/21 [06:33<00:00, 18.76s/it]\n",
      "                 Class     Images  Instances      Box(P          R      mAP50  mAP50-95): 100%|██████████| 2/2 [00:19<00:00,  9.83s/it]"
     ]
    },
    {
     "name": "stdout",
     "output_type": "stream",
     "text": [
      "                   all         46        130      0.858      0.691      0.856      0.509\n"
     ]
    },
    {
     "name": "stderr",
     "output_type": "stream",
     "text": [
      "\n"
     ]
    },
    {
     "name": "stdout",
     "output_type": "stream",
     "text": [
      "\n",
      "      Epoch    GPU_mem   box_loss   cls_loss   dfl_loss  Instances       Size\n"
     ]
    },
    {
     "name": "stderr",
     "output_type": "stream",
     "text": [
      "      13/20         0G      1.338     0.8017      1.603         11        640: 100%|██████████| 21/21 [06:16<00:00, 17.93s/it]\n",
      "                 Class     Images  Instances      Box(P          R      mAP50  mAP50-95): 100%|██████████| 2/2 [00:19<00:00,  9.73s/it]"
     ]
    },
    {
     "name": "stdout",
     "output_type": "stream",
     "text": [
      "                   all         46        130      0.788      0.775       0.87      0.571\n"
     ]
    },
    {
     "name": "stderr",
     "output_type": "stream",
     "text": [
      "\n"
     ]
    },
    {
     "name": "stdout",
     "output_type": "stream",
     "text": [
      "\n",
      "      Epoch    GPU_mem   box_loss   cls_loss   dfl_loss  Instances       Size\n"
     ]
    },
    {
     "name": "stderr",
     "output_type": "stream",
     "text": [
      "      14/20         0G      1.334     0.7722      1.577         12        640: 100%|██████████| 21/21 [06:13<00:00, 17.80s/it]\n",
      "                 Class     Images  Instances      Box(P          R      mAP50  mAP50-95): 100%|██████████| 2/2 [00:19<00:00,  9.58s/it]"
     ]
    },
    {
     "name": "stdout",
     "output_type": "stream",
     "text": [
      "                   all         46        130      0.932      0.746      0.918      0.602\n"
     ]
    },
    {
     "name": "stderr",
     "output_type": "stream",
     "text": [
      "\n"
     ]
    },
    {
     "name": "stdout",
     "output_type": "stream",
     "text": [
      "\n",
      "      Epoch    GPU_mem   box_loss   cls_loss   dfl_loss  Instances       Size\n"
     ]
    },
    {
     "name": "stderr",
     "output_type": "stream",
     "text": [
      "      15/20         0G      1.311     0.7265      1.531         11        640: 100%|██████████| 21/21 [06:23<00:00, 18.28s/it]\n",
      "                 Class     Images  Instances      Box(P          R      mAP50  mAP50-95): 100%|██████████| 2/2 [00:22<00:00, 11.18s/it]"
     ]
    },
    {
     "name": "stdout",
     "output_type": "stream",
     "text": [
      "                   all         46        130      0.782      0.841      0.883      0.571\n"
     ]
    },
    {
     "name": "stderr",
     "output_type": "stream",
     "text": [
      "\n"
     ]
    },
    {
     "name": "stdout",
     "output_type": "stream",
     "text": [
      "\n",
      "      Epoch    GPU_mem   box_loss   cls_loss   dfl_loss  Instances       Size\n"
     ]
    },
    {
     "name": "stderr",
     "output_type": "stream",
     "text": [
      "      16/20         0G        1.3     0.6895      1.538         11        640: 100%|██████████| 21/21 [07:13<00:00, 20.66s/it]\n",
      "                 Class     Images  Instances      Box(P          R      mAP50  mAP50-95): 100%|██████████| 2/2 [00:22<00:00, 11.23s/it]"
     ]
    },
    {
     "name": "stdout",
     "output_type": "stream",
     "text": [
      "                   all         46        130      0.824      0.819      0.884       0.59\n"
     ]
    },
    {
     "name": "stderr",
     "output_type": "stream",
     "text": [
      "\n"
     ]
    },
    {
     "name": "stdout",
     "output_type": "stream",
     "text": [
      "\n",
      "      Epoch    GPU_mem   box_loss   cls_loss   dfl_loss  Instances       Size\n"
     ]
    },
    {
     "name": "stderr",
     "output_type": "stream",
     "text": [
      "      17/20         0G      1.262       0.64      1.495         10        640: 100%|██████████| 21/21 [07:13<00:00, 20.67s/it]\n",
      "                 Class     Images  Instances      Box(P          R      mAP50  mAP50-95): 100%|██████████| 2/2 [00:22<00:00, 11.21s/it]"
     ]
    },
    {
     "name": "stdout",
     "output_type": "stream",
     "text": [
      "                   all         46        130      0.879      0.836       0.89      0.593\n"
     ]
    },
    {
     "name": "stderr",
     "output_type": "stream",
     "text": [
      "\n"
     ]
    },
    {
     "name": "stdout",
     "output_type": "stream",
     "text": [
      "\n",
      "      Epoch    GPU_mem   box_loss   cls_loss   dfl_loss  Instances       Size\n"
     ]
    },
    {
     "name": "stderr",
     "output_type": "stream",
     "text": [
      "      18/20         0G      1.224     0.6172      1.477         12        640: 100%|██████████| 21/21 [07:12<00:00, 20.61s/it]\n",
      "                 Class     Images  Instances      Box(P          R      mAP50  mAP50-95): 100%|██████████| 2/2 [00:22<00:00, 11.16s/it]"
     ]
    },
    {
     "name": "stdout",
     "output_type": "stream",
     "text": [
      "                   all         46        130      0.803      0.895      0.906      0.605\n"
     ]
    },
    {
     "name": "stderr",
     "output_type": "stream",
     "text": [
      "\n"
     ]
    },
    {
     "name": "stdout",
     "output_type": "stream",
     "text": [
      "\n",
      "      Epoch    GPU_mem   box_loss   cls_loss   dfl_loss  Instances       Size\n"
     ]
    },
    {
     "name": "stderr",
     "output_type": "stream",
     "text": [
      "      19/20         0G      1.193     0.5924      1.462         12        640: 100%|██████████| 21/21 [07:13<00:00, 20.66s/it]\n",
      "                 Class     Images  Instances      Box(P          R      mAP50  mAP50-95): 100%|██████████| 2/2 [00:22<00:00, 11.17s/it]"
     ]
    },
    {
     "name": "stdout",
     "output_type": "stream",
     "text": [
      "                   all         46        130      0.799      0.904       0.93      0.618\n"
     ]
    },
    {
     "name": "stderr",
     "output_type": "stream",
     "text": [
      "\n"
     ]
    },
    {
     "name": "stdout",
     "output_type": "stream",
     "text": [
      "\n",
      "      Epoch    GPU_mem   box_loss   cls_loss   dfl_loss  Instances       Size\n"
     ]
    },
    {
     "name": "stderr",
     "output_type": "stream",
     "text": [
      "      20/20         0G      1.205     0.5958      1.456         12        640: 100%|██████████| 21/21 [07:12<00:00, 20.58s/it]\n",
      "                 Class     Images  Instances      Box(P          R      mAP50  mAP50-95): 100%|██████████| 2/2 [00:22<00:00, 11.03s/it]"
     ]
    },
    {
     "name": "stdout",
     "output_type": "stream",
     "text": [
      "                   all         46        130      0.792      0.916       0.93      0.617\n"
     ]
    },
    {
     "name": "stderr",
     "output_type": "stream",
     "text": [
      "\n"
     ]
    },
    {
     "name": "stdout",
     "output_type": "stream",
     "text": [
      "\n",
      "20 epochs completed in 2.344 hours.\n",
      "Optimizer stripped from runs\\detect\\train\\weights\\last.pt, 136.7MB\n",
      "Optimizer stripped from runs\\detect\\train\\weights\\best.pt, 136.7MB\n",
      "\n",
      "Validating runs\\detect\\train\\weights\\best.pt...\n",
      "Ultralytics YOLOv8.1.18 🚀 Python-3.11.6 torch-2.2.1+cpu CPU (AMD Ryzen 9 7950X 16-Core Processor)\n",
      "Model summary (fused): 268 layers, 68138976 parameters, 0 gradients, 257.5 GFLOPs\n"
     ]
    },
    {
     "name": "stderr",
     "output_type": "stream",
     "text": [
      "                 Class     Images  Instances      Box(P          R      mAP50  mAP50-95): 100%|██████████| 2/2 [00:17<00:00,  8.78s/it]\n"
     ]
    },
    {
     "name": "stdout",
     "output_type": "stream",
     "text": [
      "                   all         46        130      0.799      0.904       0.93      0.618\n",
      "              P mosfet         46          1       0.68          1      0.995      0.697\n",
      "             ac source         46          1      0.489          1      0.995      0.597\n",
      "               ammeter         46          9       0.79      0.889      0.922      0.686\n",
      "             capacitor         46         23      0.956      0.936      0.988      0.598\n",
      "        current source         46          2          1          0      0.497      0.398\n",
      "        dc volt source         46         16      0.849      0.938      0.973       0.63\n",
      "    dep current source         46         11      0.991          1      0.995      0.776\n",
      "       dep volt source         46          4      0.714          1      0.845      0.655\n",
      "                 diode         46         13      0.812          1      0.941      0.697\n",
      "                   gnd         46          2      0.805          1      0.995      0.698\n",
      "              inductor         46          8       0.94          1      0.995      0.544\n",
      "               npn bjt         46          2          1      0.801      0.995       0.55\n",
      "               pnp bjt         46          1      0.324          1      0.995      0.597\n",
      "              resistor         46         34      0.983          1      0.995      0.508\n",
      "             voltmeter         46          3      0.647          1       0.83      0.638\n",
      "Speed: 2.0ms preprocess, 374.9ms inference, 0.0ms loss, 0.0ms postprocess per image\n",
      "Results saved to \u001b[1mruns\\detect\\train\u001b[0m\n"
     ]
    }
   ],
   "source": [
    "results = model.train(data=r\"C:\\ckt\\circuits.v1i.yolov8v2\\data.yaml\", epochs=20)"
   ]
  },
  {
   "cell_type": "code",
   "execution_count": 5,
   "metadata": {},
   "outputs": [
    {
     "name": "stdout",
     "output_type": "stream",
     "text": [
      "\n",
      "image 1/1 C:\\Users\\tanis\\OneDrive\\Desktop\\circuit\\Screenshot 2024-02-10 231246.png: 640x640 (no detections), 2082.6ms\n",
      "Speed: 6.5ms preprocess, 2082.6ms inference, 10.3ms postprocess per image at shape (1, 3, 640, 640)\n",
      "Results saved to \u001b[1mruns\\detect\\predict3\u001b[0m\n"
     ]
    }
   ],
   "source": [
    "infer = YOLO(\"yolov8x.pt\") \n",
    "results = infer.predict(r\"C:\\Users\\tanis\\OneDrive\\Desktop\\circuit\\Screenshot 2024-02-10 231246.png\", save=True)"
   ]
  }
 ],
 "metadata": {
  "kernelspec": {
   "display_name": "Python 3",
   "language": "python",
   "name": "python3"
  },
  "language_info": {
   "codemirror_mode": {
    "name": "ipython",
    "version": 3
   },
   "file_extension": ".py",
   "mimetype": "text/x-python",
   "name": "python",
   "nbconvert_exporter": "python",
   "pygments_lexer": "ipython3",
   "version": "3.11.4"
  }
 },
 "nbformat": 4,
 "nbformat_minor": 2
}
